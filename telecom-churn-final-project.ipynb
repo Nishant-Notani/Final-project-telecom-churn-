{
 "cells": [
  {
   "cell_type": "markdown",
   "metadata": {},
   "source": [
    "#                                 Telecom Churn Analysis"
   ]
  },
  {
   "cell_type": "code",
   "execution_count": null,
   "metadata": {},
   "outputs": [],
   "source": [
    "Part-1: Data Exploration and Pre-processing\n",
    "1) load the given dataset\n",
    "2) print all the column names\n",
    "3) describe the data\n",
    "4) find all the Null values\n",
    "5) plot the customers who have international plans\n",
    "6) plot the customers who have Voice mail plan\n",
    "7) Plot the total day calls\n",
    "8) Plot the total day charge\n",
    "9) Display pie chart for value count in Churn column\n",
    "10) Display a scatter plot between total day calls and total day charges\n",
    "11) Display a scatter plot between total day calls and total night calls\n",
    "12) Display a boxplot of Total day minutes with respect to Churn "
   ]
  },
  {
   "cell_type": "code",
   "execution_count": 1,
   "metadata": {},
   "outputs": [],
   "source": [
    "import pandas as pd\n",
    "import numpy as np\n",
    "import matplotlib.pyplot as plt\n",
    "import matplotlib.pyplot as plt\n",
    "%matplotlib inline\n",
    "import seaborn as sns"
   ]
  },
  {
   "cell_type": "code",
   "execution_count": 2,
   "metadata": {},
   "outputs": [
    {
     "name": "stdout",
     "output_type": "stream",
     "text": [
      "C:\\Users\\nisha\\Downloads\\Main project\n"
     ]
    }
   ],
   "source": [
    "cd C:\\Users\\nisha\\Downloads\\Main project"
   ]
  },
  {
   "cell_type": "markdown",
   "metadata": {},
   "source": [
    "# 1) load the given dataset"
   ]
  },
  {
   "cell_type": "code",
   "execution_count": 4,
   "metadata": {},
   "outputs": [],
   "source": [
    "df = pd.read_csv(\"churn_telecom.csv\")"
   ]
  },
  {
   "cell_type": "code",
   "execution_count": 5,
   "metadata": {},
   "outputs": [
    {
     "data": {
      "text/html": [
       "<div>\n",
       "<style scoped>\n",
       "    .dataframe tbody tr th:only-of-type {\n",
       "        vertical-align: middle;\n",
       "    }\n",
       "\n",
       "    .dataframe tbody tr th {\n",
       "        vertical-align: top;\n",
       "    }\n",
       "\n",
       "    .dataframe thead th {\n",
       "        text-align: right;\n",
       "    }\n",
       "</style>\n",
       "<table border=\"1\" class=\"dataframe\">\n",
       "  <thead>\n",
       "    <tr style=\"text-align: right;\">\n",
       "      <th></th>\n",
       "      <th>State</th>\n",
       "      <th>Account length</th>\n",
       "      <th>Area code</th>\n",
       "      <th>International plan</th>\n",
       "      <th>Voice mail plan</th>\n",
       "      <th>Number vmail messages</th>\n",
       "      <th>Total day minutes</th>\n",
       "      <th>Total day calls</th>\n",
       "      <th>Total day charge</th>\n",
       "      <th>Total eve minutes</th>\n",
       "      <th>Total eve calls</th>\n",
       "      <th>Total eve charge</th>\n",
       "      <th>Total night minutes</th>\n",
       "      <th>Total night calls</th>\n",
       "      <th>Total night charge</th>\n",
       "      <th>Total intl minutes</th>\n",
       "      <th>Total intl calls</th>\n",
       "      <th>Total intl charge</th>\n",
       "      <th>Customer service calls</th>\n",
       "      <th>Churn</th>\n",
       "    </tr>\n",
       "  </thead>\n",
       "  <tbody>\n",
       "    <tr>\n",
       "      <th>0</th>\n",
       "      <td>KS</td>\n",
       "      <td>128</td>\n",
       "      <td>415</td>\n",
       "      <td>No</td>\n",
       "      <td>Yes</td>\n",
       "      <td>25</td>\n",
       "      <td>265.1</td>\n",
       "      <td>110</td>\n",
       "      <td>45.07</td>\n",
       "      <td>197.4</td>\n",
       "      <td>99</td>\n",
       "      <td>16.78</td>\n",
       "      <td>244.7</td>\n",
       "      <td>91</td>\n",
       "      <td>11.01</td>\n",
       "      <td>10.0</td>\n",
       "      <td>3</td>\n",
       "      <td>2.70</td>\n",
       "      <td>1</td>\n",
       "      <td>False</td>\n",
       "    </tr>\n",
       "    <tr>\n",
       "      <th>1</th>\n",
       "      <td>OH</td>\n",
       "      <td>107</td>\n",
       "      <td>415</td>\n",
       "      <td>No</td>\n",
       "      <td>Yes</td>\n",
       "      <td>26</td>\n",
       "      <td>161.6</td>\n",
       "      <td>123</td>\n",
       "      <td>27.47</td>\n",
       "      <td>195.5</td>\n",
       "      <td>103</td>\n",
       "      <td>16.62</td>\n",
       "      <td>254.4</td>\n",
       "      <td>103</td>\n",
       "      <td>11.45</td>\n",
       "      <td>13.7</td>\n",
       "      <td>3</td>\n",
       "      <td>3.70</td>\n",
       "      <td>1</td>\n",
       "      <td>False</td>\n",
       "    </tr>\n",
       "    <tr>\n",
       "      <th>2</th>\n",
       "      <td>NJ</td>\n",
       "      <td>137</td>\n",
       "      <td>415</td>\n",
       "      <td>No</td>\n",
       "      <td>No</td>\n",
       "      <td>0</td>\n",
       "      <td>243.4</td>\n",
       "      <td>114</td>\n",
       "      <td>41.38</td>\n",
       "      <td>121.2</td>\n",
       "      <td>110</td>\n",
       "      <td>10.30</td>\n",
       "      <td>162.6</td>\n",
       "      <td>104</td>\n",
       "      <td>7.32</td>\n",
       "      <td>12.2</td>\n",
       "      <td>5</td>\n",
       "      <td>3.29</td>\n",
       "      <td>0</td>\n",
       "      <td>False</td>\n",
       "    </tr>\n",
       "    <tr>\n",
       "      <th>3</th>\n",
       "      <td>OH</td>\n",
       "      <td>84</td>\n",
       "      <td>408</td>\n",
       "      <td>Yes</td>\n",
       "      <td>No</td>\n",
       "      <td>0</td>\n",
       "      <td>299.4</td>\n",
       "      <td>71</td>\n",
       "      <td>50.90</td>\n",
       "      <td>61.9</td>\n",
       "      <td>88</td>\n",
       "      <td>5.26</td>\n",
       "      <td>196.9</td>\n",
       "      <td>89</td>\n",
       "      <td>8.86</td>\n",
       "      <td>6.6</td>\n",
       "      <td>7</td>\n",
       "      <td>1.78</td>\n",
       "      <td>2</td>\n",
       "      <td>False</td>\n",
       "    </tr>\n",
       "    <tr>\n",
       "      <th>4</th>\n",
       "      <td>OK</td>\n",
       "      <td>75</td>\n",
       "      <td>415</td>\n",
       "      <td>Yes</td>\n",
       "      <td>No</td>\n",
       "      <td>0</td>\n",
       "      <td>166.7</td>\n",
       "      <td>113</td>\n",
       "      <td>28.34</td>\n",
       "      <td>148.3</td>\n",
       "      <td>122</td>\n",
       "      <td>12.61</td>\n",
       "      <td>186.9</td>\n",
       "      <td>121</td>\n",
       "      <td>8.41</td>\n",
       "      <td>10.1</td>\n",
       "      <td>3</td>\n",
       "      <td>2.73</td>\n",
       "      <td>3</td>\n",
       "      <td>False</td>\n",
       "    </tr>\n",
       "  </tbody>\n",
       "</table>\n",
       "</div>"
      ],
      "text/plain": [
       "  State  Account length  Area code International plan Voice mail plan  \\\n",
       "0    KS             128        415                 No             Yes   \n",
       "1    OH             107        415                 No             Yes   \n",
       "2    NJ             137        415                 No              No   \n",
       "3    OH              84        408                Yes              No   \n",
       "4    OK              75        415                Yes              No   \n",
       "\n",
       "   Number vmail messages  Total day minutes  Total day calls  \\\n",
       "0                     25              265.1              110   \n",
       "1                     26              161.6              123   \n",
       "2                      0              243.4              114   \n",
       "3                      0              299.4               71   \n",
       "4                      0              166.7              113   \n",
       "\n",
       "   Total day charge  Total eve minutes  Total eve calls  Total eve charge  \\\n",
       "0             45.07              197.4               99             16.78   \n",
       "1             27.47              195.5              103             16.62   \n",
       "2             41.38              121.2              110             10.30   \n",
       "3             50.90               61.9               88              5.26   \n",
       "4             28.34              148.3              122             12.61   \n",
       "\n",
       "   Total night minutes  Total night calls  Total night charge  \\\n",
       "0                244.7                 91               11.01   \n",
       "1                254.4                103               11.45   \n",
       "2                162.6                104                7.32   \n",
       "3                196.9                 89                8.86   \n",
       "4                186.9                121                8.41   \n",
       "\n",
       "   Total intl minutes  Total intl calls  Total intl charge  \\\n",
       "0                10.0                 3               2.70   \n",
       "1                13.7                 3               3.70   \n",
       "2                12.2                 5               3.29   \n",
       "3                 6.6                 7               1.78   \n",
       "4                10.1                 3               2.73   \n",
       "\n",
       "   Customer service calls  Churn  \n",
       "0                       1  False  \n",
       "1                       1  False  \n",
       "2                       0  False  \n",
       "3                       2  False  \n",
       "4                       3  False  "
      ]
     },
     "execution_count": 5,
     "metadata": {},
     "output_type": "execute_result"
    }
   ],
   "source": [
    "df.head()"
   ]
  },
  {
   "cell_type": "markdown",
   "metadata": {},
   "source": [
    "# 2) print all the column names"
   ]
  },
  {
   "cell_type": "code",
   "execution_count": 6,
   "metadata": {},
   "outputs": [
    {
     "data": {
      "text/plain": [
       "Index(['State', 'Account length', 'Area code', 'International plan',\n",
       "       'Voice mail plan', 'Number vmail messages', 'Total day minutes',\n",
       "       'Total day calls', 'Total day charge', 'Total eve minutes',\n",
       "       'Total eve calls', 'Total eve charge', 'Total night minutes',\n",
       "       'Total night calls', 'Total night charge', 'Total intl minutes',\n",
       "       'Total intl calls', 'Total intl charge', 'Customer service calls',\n",
       "       'Churn'],\n",
       "      dtype='object')"
      ]
     },
     "execution_count": 6,
     "metadata": {},
     "output_type": "execute_result"
    }
   ],
   "source": [
    "df.columns"
   ]
  },
  {
   "cell_type": "code",
   "execution_count": 7,
   "metadata": {},
   "outputs": [
    {
     "name": "stdout",
     "output_type": "stream",
     "text": [
      "<class 'pandas.core.frame.DataFrame'>\n",
      "RangeIndex: 2666 entries, 0 to 2665\n",
      "Data columns (total 20 columns):\n",
      " #   Column                  Non-Null Count  Dtype  \n",
      "---  ------                  --------------  -----  \n",
      " 0   State                   2666 non-null   object \n",
      " 1   Account length          2666 non-null   int64  \n",
      " 2   Area code               2666 non-null   int64  \n",
      " 3   International plan      2666 non-null   object \n",
      " 4   Voice mail plan         2666 non-null   object \n",
      " 5   Number vmail messages   2666 non-null   int64  \n",
      " 6   Total day minutes       2666 non-null   float64\n",
      " 7   Total day calls         2666 non-null   int64  \n",
      " 8   Total day charge        2666 non-null   float64\n",
      " 9   Total eve minutes       2666 non-null   float64\n",
      " 10  Total eve calls         2666 non-null   int64  \n",
      " 11  Total eve charge        2666 non-null   float64\n",
      " 12  Total night minutes     2666 non-null   float64\n",
      " 13  Total night calls       2666 non-null   int64  \n",
      " 14  Total night charge      2666 non-null   float64\n",
      " 15  Total intl minutes      2666 non-null   float64\n",
      " 16  Total intl calls        2666 non-null   int64  \n",
      " 17  Total intl charge       2666 non-null   float64\n",
      " 18  Customer service calls  2666 non-null   int64  \n",
      " 19  Churn                   2666 non-null   bool   \n",
      "dtypes: bool(1), float64(8), int64(8), object(3)\n",
      "memory usage: 398.5+ KB\n"
     ]
    }
   ],
   "source": [
    "df.info()"
   ]
  },
  {
   "cell_type": "markdown",
   "metadata": {},
   "source": [
    "# 3) describe the data"
   ]
  },
  {
   "cell_type": "code",
   "execution_count": 8,
   "metadata": {},
   "outputs": [
    {
     "data": {
      "text/html": [
       "<div>\n",
       "<style scoped>\n",
       "    .dataframe tbody tr th:only-of-type {\n",
       "        vertical-align: middle;\n",
       "    }\n",
       "\n",
       "    .dataframe tbody tr th {\n",
       "        vertical-align: top;\n",
       "    }\n",
       "\n",
       "    .dataframe thead th {\n",
       "        text-align: right;\n",
       "    }\n",
       "</style>\n",
       "<table border=\"1\" class=\"dataframe\">\n",
       "  <thead>\n",
       "    <tr style=\"text-align: right;\">\n",
       "      <th></th>\n",
       "      <th>Account length</th>\n",
       "      <th>Area code</th>\n",
       "      <th>Number vmail messages</th>\n",
       "      <th>Total day minutes</th>\n",
       "      <th>Total day calls</th>\n",
       "      <th>Total day charge</th>\n",
       "      <th>Total eve minutes</th>\n",
       "      <th>Total eve calls</th>\n",
       "      <th>Total eve charge</th>\n",
       "      <th>Total night minutes</th>\n",
       "      <th>Total night calls</th>\n",
       "      <th>Total night charge</th>\n",
       "      <th>Total intl minutes</th>\n",
       "      <th>Total intl calls</th>\n",
       "      <th>Total intl charge</th>\n",
       "      <th>Customer service calls</th>\n",
       "    </tr>\n",
       "  </thead>\n",
       "  <tbody>\n",
       "    <tr>\n",
       "      <th>count</th>\n",
       "      <td>2666.000000</td>\n",
       "      <td>2666.000000</td>\n",
       "      <td>2666.000000</td>\n",
       "      <td>2666.00000</td>\n",
       "      <td>2666.000000</td>\n",
       "      <td>2666.000000</td>\n",
       "      <td>2666.000000</td>\n",
       "      <td>2666.000000</td>\n",
       "      <td>2666.000000</td>\n",
       "      <td>2666.000000</td>\n",
       "      <td>2666.000000</td>\n",
       "      <td>2666.000000</td>\n",
       "      <td>2666.000000</td>\n",
       "      <td>2666.000000</td>\n",
       "      <td>2666.000000</td>\n",
       "      <td>2666.000000</td>\n",
       "    </tr>\n",
       "    <tr>\n",
       "      <th>mean</th>\n",
       "      <td>100.620405</td>\n",
       "      <td>437.438860</td>\n",
       "      <td>8.021755</td>\n",
       "      <td>179.48162</td>\n",
       "      <td>100.310203</td>\n",
       "      <td>30.512404</td>\n",
       "      <td>200.386159</td>\n",
       "      <td>100.023631</td>\n",
       "      <td>17.033072</td>\n",
       "      <td>201.168942</td>\n",
       "      <td>100.106152</td>\n",
       "      <td>9.052689</td>\n",
       "      <td>10.237022</td>\n",
       "      <td>4.467367</td>\n",
       "      <td>2.764490</td>\n",
       "      <td>1.562641</td>\n",
       "    </tr>\n",
       "    <tr>\n",
       "      <th>std</th>\n",
       "      <td>39.563974</td>\n",
       "      <td>42.521018</td>\n",
       "      <td>13.612277</td>\n",
       "      <td>54.21035</td>\n",
       "      <td>19.988162</td>\n",
       "      <td>9.215733</td>\n",
       "      <td>50.951515</td>\n",
       "      <td>20.161445</td>\n",
       "      <td>4.330864</td>\n",
       "      <td>50.780323</td>\n",
       "      <td>19.418459</td>\n",
       "      <td>2.285120</td>\n",
       "      <td>2.788349</td>\n",
       "      <td>2.456195</td>\n",
       "      <td>0.752812</td>\n",
       "      <td>1.311236</td>\n",
       "    </tr>\n",
       "    <tr>\n",
       "      <th>min</th>\n",
       "      <td>1.000000</td>\n",
       "      <td>408.000000</td>\n",
       "      <td>0.000000</td>\n",
       "      <td>0.00000</td>\n",
       "      <td>0.000000</td>\n",
       "      <td>0.000000</td>\n",
       "      <td>0.000000</td>\n",
       "      <td>0.000000</td>\n",
       "      <td>0.000000</td>\n",
       "      <td>43.700000</td>\n",
       "      <td>33.000000</td>\n",
       "      <td>1.970000</td>\n",
       "      <td>0.000000</td>\n",
       "      <td>0.000000</td>\n",
       "      <td>0.000000</td>\n",
       "      <td>0.000000</td>\n",
       "    </tr>\n",
       "    <tr>\n",
       "      <th>25%</th>\n",
       "      <td>73.000000</td>\n",
       "      <td>408.000000</td>\n",
       "      <td>0.000000</td>\n",
       "      <td>143.40000</td>\n",
       "      <td>87.000000</td>\n",
       "      <td>24.380000</td>\n",
       "      <td>165.300000</td>\n",
       "      <td>87.000000</td>\n",
       "      <td>14.050000</td>\n",
       "      <td>166.925000</td>\n",
       "      <td>87.000000</td>\n",
       "      <td>7.512500</td>\n",
       "      <td>8.500000</td>\n",
       "      <td>3.000000</td>\n",
       "      <td>2.300000</td>\n",
       "      <td>1.000000</td>\n",
       "    </tr>\n",
       "    <tr>\n",
       "      <th>50%</th>\n",
       "      <td>100.000000</td>\n",
       "      <td>415.000000</td>\n",
       "      <td>0.000000</td>\n",
       "      <td>179.95000</td>\n",
       "      <td>101.000000</td>\n",
       "      <td>30.590000</td>\n",
       "      <td>200.900000</td>\n",
       "      <td>100.000000</td>\n",
       "      <td>17.080000</td>\n",
       "      <td>201.150000</td>\n",
       "      <td>100.000000</td>\n",
       "      <td>9.050000</td>\n",
       "      <td>10.200000</td>\n",
       "      <td>4.000000</td>\n",
       "      <td>2.750000</td>\n",
       "      <td>1.000000</td>\n",
       "    </tr>\n",
       "    <tr>\n",
       "      <th>75%</th>\n",
       "      <td>127.000000</td>\n",
       "      <td>510.000000</td>\n",
       "      <td>19.000000</td>\n",
       "      <td>215.90000</td>\n",
       "      <td>114.000000</td>\n",
       "      <td>36.700000</td>\n",
       "      <td>235.100000</td>\n",
       "      <td>114.000000</td>\n",
       "      <td>19.980000</td>\n",
       "      <td>236.475000</td>\n",
       "      <td>113.000000</td>\n",
       "      <td>10.640000</td>\n",
       "      <td>12.100000</td>\n",
       "      <td>6.000000</td>\n",
       "      <td>3.270000</td>\n",
       "      <td>2.000000</td>\n",
       "    </tr>\n",
       "    <tr>\n",
       "      <th>max</th>\n",
       "      <td>243.000000</td>\n",
       "      <td>510.000000</td>\n",
       "      <td>50.000000</td>\n",
       "      <td>350.80000</td>\n",
       "      <td>160.000000</td>\n",
       "      <td>59.640000</td>\n",
       "      <td>363.700000</td>\n",
       "      <td>170.000000</td>\n",
       "      <td>30.910000</td>\n",
       "      <td>395.000000</td>\n",
       "      <td>166.000000</td>\n",
       "      <td>17.770000</td>\n",
       "      <td>20.000000</td>\n",
       "      <td>20.000000</td>\n",
       "      <td>5.400000</td>\n",
       "      <td>9.000000</td>\n",
       "    </tr>\n",
       "  </tbody>\n",
       "</table>\n",
       "</div>"
      ],
      "text/plain": [
       "       Account length    Area code  Number vmail messages  Total day minutes  \\\n",
       "count     2666.000000  2666.000000            2666.000000         2666.00000   \n",
       "mean       100.620405   437.438860               8.021755          179.48162   \n",
       "std         39.563974    42.521018              13.612277           54.21035   \n",
       "min          1.000000   408.000000               0.000000            0.00000   \n",
       "25%         73.000000   408.000000               0.000000          143.40000   \n",
       "50%        100.000000   415.000000               0.000000          179.95000   \n",
       "75%        127.000000   510.000000              19.000000          215.90000   \n",
       "max        243.000000   510.000000              50.000000          350.80000   \n",
       "\n",
       "       Total day calls  Total day charge  Total eve minutes  Total eve calls  \\\n",
       "count      2666.000000       2666.000000        2666.000000      2666.000000   \n",
       "mean        100.310203         30.512404         200.386159       100.023631   \n",
       "std          19.988162          9.215733          50.951515        20.161445   \n",
       "min           0.000000          0.000000           0.000000         0.000000   \n",
       "25%          87.000000         24.380000         165.300000        87.000000   \n",
       "50%         101.000000         30.590000         200.900000       100.000000   \n",
       "75%         114.000000         36.700000         235.100000       114.000000   \n",
       "max         160.000000         59.640000         363.700000       170.000000   \n",
       "\n",
       "       Total eve charge  Total night minutes  Total night calls  \\\n",
       "count       2666.000000          2666.000000        2666.000000   \n",
       "mean          17.033072           201.168942         100.106152   \n",
       "std            4.330864            50.780323          19.418459   \n",
       "min            0.000000            43.700000          33.000000   \n",
       "25%           14.050000           166.925000          87.000000   \n",
       "50%           17.080000           201.150000         100.000000   \n",
       "75%           19.980000           236.475000         113.000000   \n",
       "max           30.910000           395.000000         166.000000   \n",
       "\n",
       "       Total night charge  Total intl minutes  Total intl calls  \\\n",
       "count         2666.000000         2666.000000       2666.000000   \n",
       "mean             9.052689           10.237022          4.467367   \n",
       "std              2.285120            2.788349          2.456195   \n",
       "min              1.970000            0.000000          0.000000   \n",
       "25%              7.512500            8.500000          3.000000   \n",
       "50%              9.050000           10.200000          4.000000   \n",
       "75%             10.640000           12.100000          6.000000   \n",
       "max             17.770000           20.000000         20.000000   \n",
       "\n",
       "       Total intl charge  Customer service calls  \n",
       "count        2666.000000             2666.000000  \n",
       "mean            2.764490                1.562641  \n",
       "std             0.752812                1.311236  \n",
       "min             0.000000                0.000000  \n",
       "25%             2.300000                1.000000  \n",
       "50%             2.750000                1.000000  \n",
       "75%             3.270000                2.000000  \n",
       "max             5.400000                9.000000  "
      ]
     },
     "execution_count": 8,
     "metadata": {},
     "output_type": "execute_result"
    }
   ],
   "source": [
    "df.describe()"
   ]
  },
  {
   "cell_type": "markdown",
   "metadata": {},
   "source": [
    "# 4) find all the Null values"
   ]
  },
  {
   "cell_type": "code",
   "execution_count": 7,
   "metadata": {},
   "outputs": [
    {
     "data": {
      "text/plain": [
       "State                     0\n",
       "Account length            0\n",
       "Area code                 0\n",
       "International plan        0\n",
       "Voice mail plan           0\n",
       "Number vmail messages     0\n",
       "Total day minutes         0\n",
       "Total day calls           0\n",
       "Total day charge          0\n",
       "Total eve minutes         0\n",
       "Total eve calls           0\n",
       "Total eve charge          0\n",
       "Total night minutes       0\n",
       "Total night calls         0\n",
       "Total night charge        0\n",
       "Total intl minutes        0\n",
       "Total intl calls          0\n",
       "Total intl charge         0\n",
       "Customer service calls    0\n",
       "Churn                     0\n",
       "dtype: int64"
      ]
     },
     "execution_count": 7,
     "metadata": {},
     "output_type": "execute_result"
    }
   ],
   "source": [
    "df.isnull().sum()"
   ]
  },
  {
   "cell_type": "code",
   "execution_count": 245,
   "metadata": {},
   "outputs": [],
   "source": [
    "df.columns = df.columns.str.replace(' ', '_')"
   ]
  },
  {
   "cell_type": "code",
   "execution_count": 47,
   "metadata": {},
   "outputs": [
    {
     "data": {
      "text/plain": [
       "Index(['State', 'Account_length', 'Area_code', 'International_plan',\n",
       "       'Voice_mail_plan', 'Number_vmail_messages', 'Total_day_minutes',\n",
       "       'Total_day_calls', 'Total_day_charge', 'Total_eve_minutes',\n",
       "       'Total_eve_calls', 'Total_eve_charge', 'Total_night_minutes',\n",
       "       'Total_night_calls', 'Total_night_charge', 'Total_intl_minutes',\n",
       "       'Total_intl_calls', 'Total_intl_charge', 'Customer_service_calls',\n",
       "       'Churn'],\n",
       "      dtype='object')"
      ]
     },
     "execution_count": 47,
     "metadata": {},
     "output_type": "execute_result"
    }
   ],
   "source": [
    "df.columns"
   ]
  },
  {
   "cell_type": "markdown",
   "metadata": {},
   "source": [
    "# 5) plot the customers who have international plans\n"
   ]
  },
  {
   "cell_type": "code",
   "execution_count": 24,
   "metadata": {},
   "outputs": [
    {
     "data": {
      "text/plain": [
       "<AxesSubplot:>"
      ]
     },
     "execution_count": 24,
     "metadata": {},
     "output_type": "execute_result"
    },
    {
     "data": {
      "image/png": "[encoded data removed]",
      "text/plain": [
       "<Figure size 432x288 with 1 Axes>"
      ]
     },
     "metadata": {
      "needs_background": "light"
     },
     "output_type": "display_data"
    }
   ],
   "source": [
    "df['International_plan'].value_counts().plot(kind='bar')"
   ]
  },
  {
   "cell_type": "markdown",
   "metadata": {},
   "source": [
    "# 6) plot the customers who have Voice mail plan "
   ]
  },
  {
   "cell_type": "code",
   "execution_count": 46,
   "metadata": {},
   "outputs": [
    {
     "data": {
      "text/plain": [
       "<AxesSubplot:>"
      ]
     },
     "execution_count": 46,
     "metadata": {},
     "output_type": "execute_result"
    },
    {
     "data": {
      "image/png": "[encoded data removed]",
      "text/plain": [
       "<Figure size 432x288 with 1 Axes>"
      ]
     },
     "metadata": {
      "needs_background": "light"
     },
     "output_type": "display_data"
    }
   ],
   "source": [
    "df['Voice_mail_plan'].value_counts().plot(kind='bar')"
   ]
  },
  {
   "cell_type": "markdown",
   "metadata": {},
   "source": [
    "# 7) Plot the total day calls "
   ]
  },
  {
   "cell_type": "code",
   "execution_count": 31,
   "metadata": {},
   "outputs": [
    {
     "data": {
      "text/plain": [
       "<AxesSubplot:ylabel='Frequency'>"
      ]
     },
     "execution_count": 31,
     "metadata": {},
     "output_type": "execute_result"
    },
    {
     "data": {
      "image/png": "[encoded data removed]",
      "text/plain": [
       "<Figure size 432x288 with 1 Axes>"
      ]
     },
     "metadata": {
      "needs_background": "light"
     },
     "output_type": "display_data"
    }
   ],
   "source": [
    "df['Total_day_calls'].plot(kind='hist')"
   ]
  },
  {
   "cell_type": "markdown",
   "metadata": {},
   "source": [
    "# 8) Plot the total day charge "
   ]
  },
  {
   "cell_type": "code",
   "execution_count": 34,
   "metadata": {},
   "outputs": [
    {
     "data": {
      "text/plain": [
       "<AxesSubplot:ylabel='Frequency'>"
      ]
     },
     "execution_count": 34,
     "metadata": {},
     "output_type": "execute_result"
    },
    {
     "data": {
      "image/png": "[encoded data removed]",
      "text/plain": [
       "<Figure size 432x288 with 1 Axes>"
      ]
     },
     "metadata": {
      "needs_background": "light"
     },
     "output_type": "display_data"
    }
   ],
   "source": [
    "df['Total_day_charge'].plot(kind='hist')"
   ]
  },
  {
   "cell_type": "markdown",
   "metadata": {},
   "source": [
    "# 9) Display pie chart for value count in Churn column\n"
   ]
  },
  {
   "cell_type": "code",
   "execution_count": 37,
   "metadata": {},
   "outputs": [
    {
     "data": {
      "text/plain": [
       "<AxesSubplot:ylabel='Churn'>"
      ]
     },
     "execution_count": 37,
     "metadata": {},
     "output_type": "execute_result"
    },
    {
     "data": {
      "image/png": "[encoded data removed]",
      "text/plain": [
       "<Figure size 432x288 with 1 Axes>"
      ]
     },
     "metadata": {},
     "output_type": "display_data"
    }
   ],
   "source": [
    "df['Churn'].value_counts().plot(kind='pie')"
   ]
  },
  {
   "cell_type": "markdown",
   "metadata": {},
   "source": [
    "# 10) Display a scatter plot between total day calls and total day charges "
   ]
  },
  {
   "cell_type": "code",
   "execution_count": 43,
   "metadata": {},
   "outputs": [
    {
     "data": {
      "text/plain": [
       "<matplotlib.collections.PathCollection at 0x144471a79d0>"
      ]
     },
     "execution_count": 43,
     "metadata": {},
     "output_type": "execute_result"
    },
    {
     "data": {
      "image/png": "[encoded data removed]",
      "text/plain": [
       "<Figure size 432x288 with 1 Axes>"
      ]
     },
     "metadata": {
      "needs_background": "light"
     },
     "output_type": "display_data"
    }
   ],
   "source": [
    "plt.scatter(df['Total_day_calls'],df['Total_day_charge'])"
   ]
  },
  {
   "cell_type": "markdown",
   "metadata": {},
   "source": [
    "# 11) Display a scatter plot between total day calls and total night calls"
   ]
  },
  {
   "cell_type": "code",
   "execution_count": 44,
   "metadata": {},
   "outputs": [
    {
     "data": {
      "text/plain": [
       "<matplotlib.collections.PathCollection at 0x144471f2520>"
      ]
     },
     "execution_count": 44,
     "metadata": {},
     "output_type": "execute_result"
    },
    {
     "data": {
      "image/png": "[encoded data removed]",
      "text/plain": [
       "<Figure size 432x288 with 1 Axes>"
      ]
     },
     "metadata": {
      "needs_background": "light"
     },
     "output_type": "display_data"
    }
   ],
   "source": [
    "plt.scatter(df['Total_day_calls'],df['Total_night_calls'])"
   ]
  },
  {
   "cell_type": "markdown",
   "metadata": {},
   "source": [
    "# 12) Display a boxplot of Total day minutes with respect to Churn "
   ]
  },
  {
   "cell_type": "code",
   "execution_count": 85,
   "metadata": {},
   "outputs": [
    {
     "data": {
      "text/plain": [
       "<AxesSubplot:xlabel='Churn', ylabel='Total_day_minutes'>"
      ]
     },
     "execution_count": 85,
     "metadata": {},
     "output_type": "execute_result"
    },
    {
     "data": {
      "image/png": "[encoded data removed]",
      "text/plain": [
       "<Figure size 432x288 with 1 Axes>"
      ]
     },
     "metadata": {
      "needs_background": "light"
     },
     "output_type": "display_data"
    }
   ],
   "source": [
    "sns.boxplot(x=\"Churn\", y=\"Total_day_minutes\", data=df,palette='rainbow')"
   ]
  },
  {
   "cell_type": "markdown",
   "metadata": {},
   "source": [
    "# 13) Display a boxplot of Total day charge with respect to Churn "
   ]
  },
  {
   "cell_type": "code",
   "execution_count": 87,
   "metadata": {},
   "outputs": [
    {
     "data": {
      "text/plain": [
       "<AxesSubplot:xlabel='Churn', ylabel='Total_day_charge'>"
      ]
     },
     "execution_count": 87,
     "metadata": {},
     "output_type": "execute_result"
    },
    {
     "data": {
      "image/png": "[encoded data removed]",
      "text/plain": [
       "<Figure size 432x288 with 1 Axes>"
      ]
     },
     "metadata": {
      "needs_background": "light"
     },
     "output_type": "display_data"
    }
   ],
   "source": [
    "sns.boxplot(x=\"Churn\", y=\"Total_day_charge\", data=df,palette='rainbow')"
   ]
  },
  {
   "cell_type": "markdown",
   "metadata": {},
   "source": [
    "# PART 2"
   ]
  },
  {
   "cell_type": "code",
   "execution_count": null,
   "metadata": {},
   "outputs": [],
   "source": [
    "Part-2: Working with models\n",
    "1) Perform encoding on churn\n",
    "2) Perform encoding on International Plan\n",
    "3) Perform encoding on voice mail plan using sklearn\n",
    "4) Check the correlation among all the columns\n",
    "5) Create features and target data. Only select features data that are\n",
    "highly correlated with target data.\n",
    "6) Scale the target data (churn)\n",
    "7) Check the shape of both training data and testing data\n",
    "8) Apply Logistic regression\n",
    "9) Display confusion matrix\n",
    "10) Perform Hyper parameter tuning\n",
    "11) Create a model\n",
    "12) Check the model score of both training and testing data\n",
    "13) Perform cross validation technique with SVM Classifier\n",
    "14) Perform hyperparameter tuning with different classifier models\n",
    "15) Perform k-means clustering on dataset and divide it into four\n",
    "clusters\n",
    "16) Apply PCA give n components value to 3 show we only get 3\n",
    "columns after applying PCA"
   ]
  },
  {
   "cell_type": "code",
   "execution_count": null,
   "metadata": {},
   "outputs": [],
   "source": []
  },
  {
   "cell_type": "code",
   "execution_count": 89,
   "metadata": {},
   "outputs": [],
   "source": [
    "from sklearn.preprocessing import LabelEncoder"
   ]
  },
  {
   "cell_type": "code",
   "execution_count": 91,
   "metadata": {},
   "outputs": [],
   "source": [
    "enc= LabelEncoder()"
   ]
  },
  {
   "cell_type": "markdown",
   "metadata": {},
   "source": [
    "# 1) Perform encoding on churn"
   ]
  },
  {
   "cell_type": "code",
   "execution_count": 248,
   "metadata": {},
   "outputs": [],
   "source": [
    "df['Churn']                 =enc.fit_transform(df['Churn'])"
   ]
  },
  {
   "cell_type": "markdown",
   "metadata": {},
   "source": [
    "# 2) Perform encoding on International Plan"
   ]
  },
  {
   "cell_type": "code",
   "execution_count": 249,
   "metadata": {},
   "outputs": [],
   "source": [
    "df['International_plan']    =enc.fit_transform(df['International_plan'])"
   ]
  },
  {
   "cell_type": "markdown",
   "metadata": {},
   "source": [
    "# 3) Perform encoding on voice mail plan using sklearn"
   ]
  },
  {
   "cell_type": "code",
   "execution_count": 250,
   "metadata": {},
   "outputs": [],
   "source": [
    "df['Voice_mail_plan']       =enc.fit_transform(df['Voice_mail_plan'])"
   ]
  },
  {
   "cell_type": "code",
   "execution_count": 251,
   "metadata": {},
   "outputs": [],
   "source": [
    "df['State']                 =enc.fit_transform(df['State'])"
   ]
  },
  {
   "cell_type": "code",
   "execution_count": 252,
   "metadata": {},
   "outputs": [
    {
     "data": {
      "text/html": [
       "<div>\n",
       "<style scoped>\n",
       "    .dataframe tbody tr th:only-of-type {\n",
       "        vertical-align: middle;\n",
       "    }\n",
       "\n",
       "    .dataframe tbody tr th {\n",
       "        vertical-align: top;\n",
       "    }\n",
       "\n",
       "    .dataframe thead th {\n",
       "        text-align: right;\n",
       "    }\n",
       "</style>\n",
       "<table border=\"1\" class=\"dataframe\">\n",
       "  <thead>\n",
       "    <tr style=\"text-align: right;\">\n",
       "      <th></th>\n",
       "      <th>State</th>\n",
       "      <th>Account_length</th>\n",
       "      <th>Area_code</th>\n",
       "      <th>International_plan</th>\n",
       "      <th>Voice_mail_plan</th>\n",
       "      <th>Number_vmail_messages</th>\n",
       "      <th>Total_day_minutes</th>\n",
       "      <th>Total_day_calls</th>\n",
       "      <th>Total_day_charge</th>\n",
       "      <th>Total_eve_minutes</th>\n",
       "      <th>Total_eve_calls</th>\n",
       "      <th>Total_eve_charge</th>\n",
       "      <th>Total_night_minutes</th>\n",
       "      <th>Total_night_calls</th>\n",
       "      <th>Total_night_charge</th>\n",
       "      <th>Total_intl_minutes</th>\n",
       "      <th>Total_intl_calls</th>\n",
       "      <th>Total_intl_charge</th>\n",
       "      <th>Customer_service_calls</th>\n",
       "      <th>Churn</th>\n",
       "    </tr>\n",
       "  </thead>\n",
       "  <tbody>\n",
       "    <tr>\n",
       "      <th>0</th>\n",
       "      <td>16</td>\n",
       "      <td>128</td>\n",
       "      <td>415</td>\n",
       "      <td>0</td>\n",
       "      <td>1</td>\n",
       "      <td>25</td>\n",
       "      <td>265.1</td>\n",
       "      <td>110</td>\n",
       "      <td>45.07</td>\n",
       "      <td>197.4</td>\n",
       "      <td>99</td>\n",
       "      <td>16.78</td>\n",
       "      <td>244.7</td>\n",
       "      <td>91</td>\n",
       "      <td>11.01</td>\n",
       "      <td>10.0</td>\n",
       "      <td>3</td>\n",
       "      <td>2.70</td>\n",
       "      <td>1</td>\n",
       "      <td>0</td>\n",
       "    </tr>\n",
       "    <tr>\n",
       "      <th>1</th>\n",
       "      <td>35</td>\n",
       "      <td>107</td>\n",
       "      <td>415</td>\n",
       "      <td>0</td>\n",
       "      <td>1</td>\n",
       "      <td>26</td>\n",
       "      <td>161.6</td>\n",
       "      <td>123</td>\n",
       "      <td>27.47</td>\n",
       "      <td>195.5</td>\n",
       "      <td>103</td>\n",
       "      <td>16.62</td>\n",
       "      <td>254.4</td>\n",
       "      <td>103</td>\n",
       "      <td>11.45</td>\n",
       "      <td>13.7</td>\n",
       "      <td>3</td>\n",
       "      <td>3.70</td>\n",
       "      <td>1</td>\n",
       "      <td>0</td>\n",
       "    </tr>\n",
       "    <tr>\n",
       "      <th>2</th>\n",
       "      <td>31</td>\n",
       "      <td>137</td>\n",
       "      <td>415</td>\n",
       "      <td>0</td>\n",
       "      <td>0</td>\n",
       "      <td>0</td>\n",
       "      <td>243.4</td>\n",
       "      <td>114</td>\n",
       "      <td>41.38</td>\n",
       "      <td>121.2</td>\n",
       "      <td>110</td>\n",
       "      <td>10.30</td>\n",
       "      <td>162.6</td>\n",
       "      <td>104</td>\n",
       "      <td>7.32</td>\n",
       "      <td>12.2</td>\n",
       "      <td>5</td>\n",
       "      <td>3.29</td>\n",
       "      <td>0</td>\n",
       "      <td>0</td>\n",
       "    </tr>\n",
       "    <tr>\n",
       "      <th>3</th>\n",
       "      <td>35</td>\n",
       "      <td>84</td>\n",
       "      <td>408</td>\n",
       "      <td>1</td>\n",
       "      <td>0</td>\n",
       "      <td>0</td>\n",
       "      <td>299.4</td>\n",
       "      <td>71</td>\n",
       "      <td>50.90</td>\n",
       "      <td>61.9</td>\n",
       "      <td>88</td>\n",
       "      <td>5.26</td>\n",
       "      <td>196.9</td>\n",
       "      <td>89</td>\n",
       "      <td>8.86</td>\n",
       "      <td>6.6</td>\n",
       "      <td>7</td>\n",
       "      <td>1.78</td>\n",
       "      <td>2</td>\n",
       "      <td>0</td>\n",
       "    </tr>\n",
       "    <tr>\n",
       "      <th>4</th>\n",
       "      <td>36</td>\n",
       "      <td>75</td>\n",
       "      <td>415</td>\n",
       "      <td>1</td>\n",
       "      <td>0</td>\n",
       "      <td>0</td>\n",
       "      <td>166.7</td>\n",
       "      <td>113</td>\n",
       "      <td>28.34</td>\n",
       "      <td>148.3</td>\n",
       "      <td>122</td>\n",
       "      <td>12.61</td>\n",
       "      <td>186.9</td>\n",
       "      <td>121</td>\n",
       "      <td>8.41</td>\n",
       "      <td>10.1</td>\n",
       "      <td>3</td>\n",
       "      <td>2.73</td>\n",
       "      <td>3</td>\n",
       "      <td>0</td>\n",
       "    </tr>\n",
       "  </tbody>\n",
       "</table>\n",
       "</div>"
      ],
      "text/plain": [
       "   State  Account_length  Area_code  International_plan  Voice_mail_plan  \\\n",
       "0     16             128        415                   0                1   \n",
       "1     35             107        415                   0                1   \n",
       "2     31             137        415                   0                0   \n",
       "3     35              84        408                   1                0   \n",
       "4     36              75        415                   1                0   \n",
       "\n",
       "   Number_vmail_messages  Total_day_minutes  Total_day_calls  \\\n",
       "0                     25              265.1              110   \n",
       "1                     26              161.6              123   \n",
       "2                      0              243.4              114   \n",
       "3                      0              299.4               71   \n",
       "4                      0              166.7              113   \n",
       "\n",
       "   Total_day_charge  Total_eve_minutes  Total_eve_calls  Total_eve_charge  \\\n",
       "0             45.07              197.4               99             16.78   \n",
       "1             27.47              195.5              103             16.62   \n",
       "2             41.38              121.2              110             10.30   \n",
       "3             50.90               61.9               88              5.26   \n",
       "4             28.34              148.3              122             12.61   \n",
       "\n",
       "   Total_night_minutes  Total_night_calls  Total_night_charge  \\\n",
       "0                244.7                 91               11.01   \n",
       "1                254.4                103               11.45   \n",
       "2                162.6                104                7.32   \n",
       "3                196.9                 89                8.86   \n",
       "4                186.9                121                8.41   \n",
       "\n",
       "   Total_intl_minutes  Total_intl_calls  Total_intl_charge  \\\n",
       "0                10.0                 3               2.70   \n",
       "1                13.7                 3               3.70   \n",
       "2                12.2                 5               3.29   \n",
       "3                 6.6                 7               1.78   \n",
       "4                10.1                 3               2.73   \n",
       "\n",
       "   Customer_service_calls  Churn  \n",
       "0                       1      0  \n",
       "1                       1      0  \n",
       "2                       0      0  \n",
       "3                       2      0  \n",
       "4                       3      0  "
      ]
     },
     "execution_count": 252,
     "metadata": {},
     "output_type": "execute_result"
    }
   ],
   "source": [
    "df.head()"
   ]
  },
  {
   "cell_type": "markdown",
   "metadata": {},
   "source": [
    "# 4) Check the correlation among all the columns"
   ]
  },
  {
   "cell_type": "code",
   "execution_count": 186,
   "metadata": {},
   "outputs": [
    {
     "data": {
      "image/png": "[encoded data removed]",
      "text/plain": [
       "<Figure size 2160x2160 with 2 Axes>"
      ]
     },
     "metadata": {
      "needs_background": "light"
     },
     "output_type": "display_data"
    }
   ],
   "source": [
    "plt.figure(figsize = (30,30))\n",
    "sns.heatmap(df.corr(), annot = True, cmap = \"RdYlGn\")\n",
    "\n",
    "plt.show()"
   ]
  },
  {
   "cell_type": "code",
   "execution_count": 133,
   "metadata": {},
   "outputs": [
    {
     "data": {
      "text/html": [
       "<div>\n",
       "<style scoped>\n",
       "    .dataframe tbody tr th:only-of-type {\n",
       "        vertical-align: middle;\n",
       "    }\n",
       "\n",
       "    .dataframe tbody tr th {\n",
       "        vertical-align: top;\n",
       "    }\n",
       "\n",
       "    .dataframe thead th {\n",
       "        text-align: right;\n",
       "    }\n",
       "</style>\n",
       "<table border=\"1\" class=\"dataframe\">\n",
       "  <thead>\n",
       "    <tr style=\"text-align: right;\">\n",
       "      <th></th>\n",
       "      <th>State</th>\n",
       "      <th>Account_length</th>\n",
       "      <th>Area_code</th>\n",
       "      <th>International_plan</th>\n",
       "      <th>Voice_mail_plan</th>\n",
       "      <th>Number_vmail_messages</th>\n",
       "      <th>Total_day_minutes</th>\n",
       "      <th>Total_day_calls</th>\n",
       "      <th>Total_day_charge</th>\n",
       "      <th>Total_eve_minutes</th>\n",
       "      <th>Total_eve_calls</th>\n",
       "      <th>Total_eve_charge</th>\n",
       "      <th>Total_night_minutes</th>\n",
       "      <th>Total_night_calls</th>\n",
       "      <th>Total_night_charge</th>\n",
       "      <th>Total_intl_minutes</th>\n",
       "      <th>Total_intl_calls</th>\n",
       "      <th>Total_intl_charge</th>\n",
       "      <th>Customer_service_calls</th>\n",
       "      <th>Churn</th>\n",
       "    </tr>\n",
       "  </thead>\n",
       "  <tbody>\n",
       "    <tr>\n",
       "      <th>State</th>\n",
       "      <td>1.000000</td>\n",
       "      <td>-0.007254</td>\n",
       "      <td>0.014550</td>\n",
       "      <td>-0.003144</td>\n",
       "      <td>-0.018661</td>\n",
       "      <td>-0.011960</td>\n",
       "      <td>-0.004951</td>\n",
       "      <td>0.007068</td>\n",
       "      <td>-0.004951</td>\n",
       "      <td>0.009383</td>\n",
       "      <td>-0.011494</td>\n",
       "      <td>0.009382</td>\n",
       "      <td>0.025277</td>\n",
       "      <td>0.005906</td>\n",
       "      <td>0.025269</td>\n",
       "      <td>-0.011202</td>\n",
       "      <td>0.011980</td>\n",
       "      <td>-0.011191</td>\n",
       "      <td>-0.031970</td>\n",
       "      <td>0.000430</td>\n",
       "    </tr>\n",
       "    <tr>\n",
       "      <th>Account_length</th>\n",
       "      <td>-0.007254</td>\n",
       "      <td>1.000000</td>\n",
       "      <td>-0.008620</td>\n",
       "      <td>0.024500</td>\n",
       "      <td>0.002448</td>\n",
       "      <td>-0.002996</td>\n",
       "      <td>0.002847</td>\n",
       "      <td>0.038862</td>\n",
       "      <td>0.002843</td>\n",
       "      <td>-0.015923</td>\n",
       "      <td>0.018552</td>\n",
       "      <td>-0.015909</td>\n",
       "      <td>-0.008994</td>\n",
       "      <td>-0.024007</td>\n",
       "      <td>-0.008999</td>\n",
       "      <td>0.011369</td>\n",
       "      <td>0.017627</td>\n",
       "      <td>0.011383</td>\n",
       "      <td>0.002455</td>\n",
       "      <td>0.017728</td>\n",
       "    </tr>\n",
       "    <tr>\n",
       "      <th>Area_code</th>\n",
       "      <td>0.014550</td>\n",
       "      <td>-0.008620</td>\n",
       "      <td>1.000000</td>\n",
       "      <td>0.047099</td>\n",
       "      <td>0.007180</td>\n",
       "      <td>-0.000584</td>\n",
       "      <td>-0.023134</td>\n",
       "      <td>-0.009629</td>\n",
       "      <td>-0.023130</td>\n",
       "      <td>0.000679</td>\n",
       "      <td>-0.018602</td>\n",
       "      <td>0.000707</td>\n",
       "      <td>-0.003353</td>\n",
       "      <td>0.011455</td>\n",
       "      <td>-0.003382</td>\n",
       "      <td>-0.013418</td>\n",
       "      <td>-0.027423</td>\n",
       "      <td>-0.013534</td>\n",
       "      <td>0.034442</td>\n",
       "      <td>0.001019</td>\n",
       "    </tr>\n",
       "    <tr>\n",
       "      <th>International_plan</th>\n",
       "      <td>-0.003144</td>\n",
       "      <td>0.024500</td>\n",
       "      <td>0.047099</td>\n",
       "      <td>1.000000</td>\n",
       "      <td>0.002131</td>\n",
       "      <td>0.005858</td>\n",
       "      <td>0.049550</td>\n",
       "      <td>-0.004277</td>\n",
       "      <td>0.049555</td>\n",
       "      <td>0.026616</td>\n",
       "      <td>0.010277</td>\n",
       "      <td>0.026623</td>\n",
       "      <td>-0.010310</td>\n",
       "      <td>0.018081</td>\n",
       "      <td>-0.010316</td>\n",
       "      <td>0.053162</td>\n",
       "      <td>0.011549</td>\n",
       "      <td>0.053037</td>\n",
       "      <td>-0.035955</td>\n",
       "      <td>0.277489</td>\n",
       "    </tr>\n",
       "    <tr>\n",
       "      <th>Voice_mail_plan</th>\n",
       "      <td>-0.018661</td>\n",
       "      <td>0.002448</td>\n",
       "      <td>0.007180</td>\n",
       "      <td>0.002131</td>\n",
       "      <td>1.000000</td>\n",
       "      <td>0.957159</td>\n",
       "      <td>0.013438</td>\n",
       "      <td>-0.007541</td>\n",
       "      <td>0.013439</td>\n",
       "      <td>0.019132</td>\n",
       "      <td>0.003404</td>\n",
       "      <td>0.019147</td>\n",
       "      <td>0.001065</td>\n",
       "      <td>0.013985</td>\n",
       "      <td>0.001066</td>\n",
       "      <td>-0.013963</td>\n",
       "      <td>0.015196</td>\n",
       "      <td>-0.013931</td>\n",
       "      <td>-0.022054</td>\n",
       "      <td>-0.099291</td>\n",
       "    </tr>\n",
       "    <tr>\n",
       "      <th>Number_vmail_messages</th>\n",
       "      <td>-0.011960</td>\n",
       "      <td>-0.002996</td>\n",
       "      <td>-0.000584</td>\n",
       "      <td>0.005858</td>\n",
       "      <td>0.957159</td>\n",
       "      <td>1.000000</td>\n",
       "      <td>0.019027</td>\n",
       "      <td>-0.009622</td>\n",
       "      <td>0.019027</td>\n",
       "      <td>0.011401</td>\n",
       "      <td>0.005131</td>\n",
       "      <td>0.011418</td>\n",
       "      <td>-0.000224</td>\n",
       "      <td>0.008124</td>\n",
       "      <td>-0.000229</td>\n",
       "      <td>-0.004156</td>\n",
       "      <td>0.027013</td>\n",
       "      <td>-0.004136</td>\n",
       "      <td>-0.018787</td>\n",
       "      <td>-0.086474</td>\n",
       "    </tr>\n",
       "    <tr>\n",
       "      <th>Total_day_minutes</th>\n",
       "      <td>-0.004951</td>\n",
       "      <td>0.002847</td>\n",
       "      <td>-0.023134</td>\n",
       "      <td>0.049550</td>\n",
       "      <td>0.013438</td>\n",
       "      <td>0.019027</td>\n",
       "      <td>1.000000</td>\n",
       "      <td>0.016780</td>\n",
       "      <td>1.000000</td>\n",
       "      <td>0.003999</td>\n",
       "      <td>0.009059</td>\n",
       "      <td>0.003992</td>\n",
       "      <td>0.013491</td>\n",
       "      <td>0.015054</td>\n",
       "      <td>0.013464</td>\n",
       "      <td>-0.011042</td>\n",
       "      <td>0.005687</td>\n",
       "      <td>-0.010934</td>\n",
       "      <td>-0.024543</td>\n",
       "      <td>0.195688</td>\n",
       "    </tr>\n",
       "    <tr>\n",
       "      <th>Total_day_calls</th>\n",
       "      <td>0.007068</td>\n",
       "      <td>0.038862</td>\n",
       "      <td>-0.009629</td>\n",
       "      <td>-0.004277</td>\n",
       "      <td>-0.007541</td>\n",
       "      <td>-0.009622</td>\n",
       "      <td>0.016780</td>\n",
       "      <td>1.000000</td>\n",
       "      <td>0.016787</td>\n",
       "      <td>-0.026003</td>\n",
       "      <td>0.006473</td>\n",
       "      <td>-0.026006</td>\n",
       "      <td>0.008986</td>\n",
       "      <td>-0.016776</td>\n",
       "      <td>0.008972</td>\n",
       "      <td>0.031036</td>\n",
       "      <td>0.006928</td>\n",
       "      <td>0.031133</td>\n",
       "      <td>-0.011945</td>\n",
       "      <td>0.018290</td>\n",
       "    </tr>\n",
       "    <tr>\n",
       "      <th>Total_day_charge</th>\n",
       "      <td>-0.004951</td>\n",
       "      <td>0.002843</td>\n",
       "      <td>-0.023130</td>\n",
       "      <td>0.049555</td>\n",
       "      <td>0.013439</td>\n",
       "      <td>0.019027</td>\n",
       "      <td>1.000000</td>\n",
       "      <td>0.016787</td>\n",
       "      <td>1.000000</td>\n",
       "      <td>0.004008</td>\n",
       "      <td>0.009056</td>\n",
       "      <td>0.004002</td>\n",
       "      <td>0.013495</td>\n",
       "      <td>0.015057</td>\n",
       "      <td>0.013468</td>\n",
       "      <td>-0.011046</td>\n",
       "      <td>0.005688</td>\n",
       "      <td>-0.010938</td>\n",
       "      <td>-0.024548</td>\n",
       "      <td>0.195689</td>\n",
       "    </tr>\n",
       "    <tr>\n",
       "      <th>Total_eve_minutes</th>\n",
       "      <td>0.009383</td>\n",
       "      <td>-0.015923</td>\n",
       "      <td>0.000679</td>\n",
       "      <td>0.026616</td>\n",
       "      <td>0.019132</td>\n",
       "      <td>0.011401</td>\n",
       "      <td>0.003999</td>\n",
       "      <td>-0.026003</td>\n",
       "      <td>0.004008</td>\n",
       "      <td>1.000000</td>\n",
       "      <td>-0.007654</td>\n",
       "      <td>1.000000</td>\n",
       "      <td>-0.013414</td>\n",
       "      <td>0.009017</td>\n",
       "      <td>-0.013450</td>\n",
       "      <td>-0.006915</td>\n",
       "      <td>0.002160</td>\n",
       "      <td>-0.006947</td>\n",
       "      <td>-0.013192</td>\n",
       "      <td>0.072906</td>\n",
       "    </tr>\n",
       "    <tr>\n",
       "      <th>Total_eve_calls</th>\n",
       "      <td>-0.011494</td>\n",
       "      <td>0.018552</td>\n",
       "      <td>-0.018602</td>\n",
       "      <td>0.010277</td>\n",
       "      <td>0.003404</td>\n",
       "      <td>0.005131</td>\n",
       "      <td>0.009059</td>\n",
       "      <td>0.006473</td>\n",
       "      <td>0.009056</td>\n",
       "      <td>-0.007654</td>\n",
       "      <td>1.000000</td>\n",
       "      <td>-0.007642</td>\n",
       "      <td>-0.000175</td>\n",
       "      <td>0.000797</td>\n",
       "      <td>-0.000135</td>\n",
       "      <td>0.011012</td>\n",
       "      <td>0.003710</td>\n",
       "      <td>0.011000</td>\n",
       "      <td>0.001058</td>\n",
       "      <td>-0.001539</td>\n",
       "    </tr>\n",
       "    <tr>\n",
       "      <th>Total_eve_charge</th>\n",
       "      <td>0.009382</td>\n",
       "      <td>-0.015909</td>\n",
       "      <td>0.000707</td>\n",
       "      <td>0.026623</td>\n",
       "      <td>0.019147</td>\n",
       "      <td>0.011418</td>\n",
       "      <td>0.003992</td>\n",
       "      <td>-0.026006</td>\n",
       "      <td>0.004002</td>\n",
       "      <td>1.000000</td>\n",
       "      <td>-0.007642</td>\n",
       "      <td>1.000000</td>\n",
       "      <td>-0.013428</td>\n",
       "      <td>0.009030</td>\n",
       "      <td>-0.013464</td>\n",
       "      <td>-0.006923</td>\n",
       "      <td>0.002169</td>\n",
       "      <td>-0.006955</td>\n",
       "      <td>-0.013196</td>\n",
       "      <td>0.072893</td>\n",
       "    </tr>\n",
       "    <tr>\n",
       "      <th>Total_night_minutes</th>\n",
       "      <td>0.025277</td>\n",
       "      <td>-0.008994</td>\n",
       "      <td>-0.003353</td>\n",
       "      <td>-0.010310</td>\n",
       "      <td>0.001065</td>\n",
       "      <td>-0.000224</td>\n",
       "      <td>0.013491</td>\n",
       "      <td>0.008986</td>\n",
       "      <td>0.013495</td>\n",
       "      <td>-0.013414</td>\n",
       "      <td>-0.000175</td>\n",
       "      <td>-0.013428</td>\n",
       "      <td>1.000000</td>\n",
       "      <td>0.012736</td>\n",
       "      <td>0.999999</td>\n",
       "      <td>-0.008607</td>\n",
       "      <td>-0.001110</td>\n",
       "      <td>-0.008510</td>\n",
       "      <td>0.005236</td>\n",
       "      <td>0.033639</td>\n",
       "    </tr>\n",
       "    <tr>\n",
       "      <th>Total_night_calls</th>\n",
       "      <td>0.005906</td>\n",
       "      <td>-0.024007</td>\n",
       "      <td>0.011455</td>\n",
       "      <td>0.018081</td>\n",
       "      <td>0.013985</td>\n",
       "      <td>0.008124</td>\n",
       "      <td>0.015054</td>\n",
       "      <td>-0.016776</td>\n",
       "      <td>0.015057</td>\n",
       "      <td>0.009017</td>\n",
       "      <td>0.000797</td>\n",
       "      <td>0.009030</td>\n",
       "      <td>0.012736</td>\n",
       "      <td>1.000000</td>\n",
       "      <td>0.012720</td>\n",
       "      <td>-0.023447</td>\n",
       "      <td>0.019367</td>\n",
       "      <td>-0.023434</td>\n",
       "      <td>-0.005677</td>\n",
       "      <td>0.012262</td>\n",
       "    </tr>\n",
       "    <tr>\n",
       "      <th>Total_night_charge</th>\n",
       "      <td>0.025269</td>\n",
       "      <td>-0.008999</td>\n",
       "      <td>-0.003382</td>\n",
       "      <td>-0.010316</td>\n",
       "      <td>0.001066</td>\n",
       "      <td>-0.000229</td>\n",
       "      <td>0.013464</td>\n",
       "      <td>0.008972</td>\n",
       "      <td>0.013468</td>\n",
       "      <td>-0.013450</td>\n",
       "      <td>-0.000135</td>\n",
       "      <td>-0.013464</td>\n",
       "      <td>0.999999</td>\n",
       "      <td>0.012720</td>\n",
       "      <td>1.000000</td>\n",
       "      <td>-0.008615</td>\n",
       "      <td>-0.001099</td>\n",
       "      <td>-0.008517</td>\n",
       "      <td>0.005257</td>\n",
       "      <td>0.033635</td>\n",
       "    </tr>\n",
       "    <tr>\n",
       "      <th>Total_intl_minutes</th>\n",
       "      <td>-0.011202</td>\n",
       "      <td>0.011369</td>\n",
       "      <td>-0.013418</td>\n",
       "      <td>0.053162</td>\n",
       "      <td>-0.013963</td>\n",
       "      <td>-0.004156</td>\n",
       "      <td>-0.011042</td>\n",
       "      <td>0.031036</td>\n",
       "      <td>-0.011046</td>\n",
       "      <td>-0.006915</td>\n",
       "      <td>0.011012</td>\n",
       "      <td>-0.006923</td>\n",
       "      <td>-0.008607</td>\n",
       "      <td>-0.023447</td>\n",
       "      <td>-0.008615</td>\n",
       "      <td>1.000000</td>\n",
       "      <td>0.037315</td>\n",
       "      <td>0.999993</td>\n",
       "      <td>-0.002826</td>\n",
       "      <td>0.086204</td>\n",
       "    </tr>\n",
       "    <tr>\n",
       "      <th>Total_intl_calls</th>\n",
       "      <td>0.011980</td>\n",
       "      <td>0.017627</td>\n",
       "      <td>-0.027423</td>\n",
       "      <td>0.011549</td>\n",
       "      <td>0.015196</td>\n",
       "      <td>0.027013</td>\n",
       "      <td>0.005687</td>\n",
       "      <td>0.006928</td>\n",
       "      <td>0.005688</td>\n",
       "      <td>0.002160</td>\n",
       "      <td>0.003710</td>\n",
       "      <td>0.002169</td>\n",
       "      <td>-0.001110</td>\n",
       "      <td>0.019367</td>\n",
       "      <td>-0.001099</td>\n",
       "      <td>0.037315</td>\n",
       "      <td>1.000000</td>\n",
       "      <td>0.037363</td>\n",
       "      <td>-0.022143</td>\n",
       "      <td>-0.069882</td>\n",
       "    </tr>\n",
       "    <tr>\n",
       "      <th>Total_intl_charge</th>\n",
       "      <td>-0.011191</td>\n",
       "      <td>0.011383</td>\n",
       "      <td>-0.013534</td>\n",
       "      <td>0.053037</td>\n",
       "      <td>-0.013931</td>\n",
       "      <td>-0.004136</td>\n",
       "      <td>-0.010934</td>\n",
       "      <td>0.031133</td>\n",
       "      <td>-0.010938</td>\n",
       "      <td>-0.006947</td>\n",
       "      <td>0.011000</td>\n",
       "      <td>-0.006955</td>\n",
       "      <td>-0.008510</td>\n",
       "      <td>-0.023434</td>\n",
       "      <td>-0.008517</td>\n",
       "      <td>0.999993</td>\n",
       "      <td>0.037363</td>\n",
       "      <td>1.000000</td>\n",
       "      <td>-0.002895</td>\n",
       "      <td>0.086216</td>\n",
       "    </tr>\n",
       "    <tr>\n",
       "      <th>Customer_service_calls</th>\n",
       "      <td>-0.031970</td>\n",
       "      <td>0.002455</td>\n",
       "      <td>0.034442</td>\n",
       "      <td>-0.035955</td>\n",
       "      <td>-0.022054</td>\n",
       "      <td>-0.018787</td>\n",
       "      <td>-0.024543</td>\n",
       "      <td>-0.011945</td>\n",
       "      <td>-0.024548</td>\n",
       "      <td>-0.013192</td>\n",
       "      <td>0.001058</td>\n",
       "      <td>-0.013196</td>\n",
       "      <td>0.005236</td>\n",
       "      <td>-0.005677</td>\n",
       "      <td>0.005257</td>\n",
       "      <td>-0.002826</td>\n",
       "      <td>-0.022143</td>\n",
       "      <td>-0.002895</td>\n",
       "      <td>1.000000</td>\n",
       "      <td>0.202590</td>\n",
       "    </tr>\n",
       "    <tr>\n",
       "      <th>Churn</th>\n",
       "      <td>0.000430</td>\n",
       "      <td>0.017728</td>\n",
       "      <td>0.001019</td>\n",
       "      <td>0.277489</td>\n",
       "      <td>-0.099291</td>\n",
       "      <td>-0.086474</td>\n",
       "      <td>0.195688</td>\n",
       "      <td>0.018290</td>\n",
       "      <td>0.195689</td>\n",
       "      <td>0.072906</td>\n",
       "      <td>-0.001539</td>\n",
       "      <td>0.072893</td>\n",
       "      <td>0.033639</td>\n",
       "      <td>0.012262</td>\n",
       "      <td>0.033635</td>\n",
       "      <td>0.086204</td>\n",
       "      <td>-0.069882</td>\n",
       "      <td>0.086216</td>\n",
       "      <td>0.202590</td>\n",
       "      <td>1.000000</td>\n",
       "    </tr>\n",
       "  </tbody>\n",
       "</table>\n",
       "</div>"
      ],
      "text/plain": [
       "                           State  Account_length  Area_code  \\\n",
       "State                   1.000000       -0.007254   0.014550   \n",
       "Account_length         -0.007254        1.000000  -0.008620   \n",
       "Area_code               0.014550       -0.008620   1.000000   \n",
       "International_plan     -0.003144        0.024500   0.047099   \n",
       "Voice_mail_plan        -0.018661        0.002448   0.007180   \n",
       "Number_vmail_messages  -0.011960       -0.002996  -0.000584   \n",
       "Total_day_minutes      -0.004951        0.002847  -0.023134   \n",
       "Total_day_calls         0.007068        0.038862  -0.009629   \n",
       "Total_day_charge       -0.004951        0.002843  -0.023130   \n",
       "Total_eve_minutes       0.009383       -0.015923   0.000679   \n",
       "Total_eve_calls        -0.011494        0.018552  -0.018602   \n",
       "Total_eve_charge        0.009382       -0.015909   0.000707   \n",
       "Total_night_minutes     0.025277       -0.008994  -0.003353   \n",
       "Total_night_calls       0.005906       -0.024007   0.011455   \n",
       "Total_night_charge      0.025269       -0.008999  -0.003382   \n",
       "Total_intl_minutes     -0.011202        0.011369  -0.013418   \n",
       "Total_intl_calls        0.011980        0.017627  -0.027423   \n",
       "Total_intl_charge      -0.011191        0.011383  -0.013534   \n",
       "Customer_service_calls -0.031970        0.002455   0.034442   \n",
       "Churn                   0.000430        0.017728   0.001019   \n",
       "\n",
       "                        International_plan  Voice_mail_plan  \\\n",
       "State                            -0.003144        -0.018661   \n",
       "Account_length                    0.024500         0.002448   \n",
       "Area_code                         0.047099         0.007180   \n",
       "International_plan                1.000000         0.002131   \n",
       "Voice_mail_plan                   0.002131         1.000000   \n",
       "Number_vmail_messages             0.005858         0.957159   \n",
       "Total_day_minutes                 0.049550         0.013438   \n",
       "Total_day_calls                  -0.004277        -0.007541   \n",
       "Total_day_charge                  0.049555         0.013439   \n",
       "Total_eve_minutes                 0.026616         0.019132   \n",
       "Total_eve_calls                   0.010277         0.003404   \n",
       "Total_eve_charge                  0.026623         0.019147   \n",
       "Total_night_minutes              -0.010310         0.001065   \n",
       "Total_night_calls                 0.018081         0.013985   \n",
       "Total_night_charge               -0.010316         0.001066   \n",
       "Total_intl_minutes                0.053162        -0.013963   \n",
       "Total_intl_calls                  0.011549         0.015196   \n",
       "Total_intl_charge                 0.053037        -0.013931   \n",
       "Customer_service_calls           -0.035955        -0.022054   \n",
       "Churn                             0.277489        -0.099291   \n",
       "\n",
       "                        Number_vmail_messages  Total_day_minutes  \\\n",
       "State                               -0.011960          -0.004951   \n",
       "Account_length                      -0.002996           0.002847   \n",
       "Area_code                           -0.000584          -0.023134   \n",
       "International_plan                   0.005858           0.049550   \n",
       "Voice_mail_plan                      0.957159           0.013438   \n",
       "Number_vmail_messages                1.000000           0.019027   \n",
       "Total_day_minutes                    0.019027           1.000000   \n",
       "Total_day_calls                     -0.009622           0.016780   \n",
       "Total_day_charge                     0.019027           1.000000   \n",
       "Total_eve_minutes                    0.011401           0.003999   \n",
       "Total_eve_calls                      0.005131           0.009059   \n",
       "Total_eve_charge                     0.011418           0.003992   \n",
       "Total_night_minutes                 -0.000224           0.013491   \n",
       "Total_night_calls                    0.008124           0.015054   \n",
       "Total_night_charge                  -0.000229           0.013464   \n",
       "Total_intl_minutes                  -0.004156          -0.011042   \n",
       "Total_intl_calls                     0.027013           0.005687   \n",
       "Total_intl_charge                   -0.004136          -0.010934   \n",
       "Customer_service_calls              -0.018787          -0.024543   \n",
       "Churn                               -0.086474           0.195688   \n",
       "\n",
       "                        Total_day_calls  Total_day_charge  Total_eve_minutes  \\\n",
       "State                          0.007068         -0.004951           0.009383   \n",
       "Account_length                 0.038862          0.002843          -0.015923   \n",
       "Area_code                     -0.009629         -0.023130           0.000679   \n",
       "International_plan            -0.004277          0.049555           0.026616   \n",
       "Voice_mail_plan               -0.007541          0.013439           0.019132   \n",
       "Number_vmail_messages         -0.009622          0.019027           0.011401   \n",
       "Total_day_minutes              0.016780          1.000000           0.003999   \n",
       "Total_day_calls                1.000000          0.016787          -0.026003   \n",
       "Total_day_charge               0.016787          1.000000           0.004008   \n",
       "Total_eve_minutes             -0.026003          0.004008           1.000000   \n",
       "Total_eve_calls                0.006473          0.009056          -0.007654   \n",
       "Total_eve_charge              -0.026006          0.004002           1.000000   \n",
       "Total_night_minutes            0.008986          0.013495          -0.013414   \n",
       "Total_night_calls             -0.016776          0.015057           0.009017   \n",
       "Total_night_charge             0.008972          0.013468          -0.013450   \n",
       "Total_intl_minutes             0.031036         -0.011046          -0.006915   \n",
       "Total_intl_calls               0.006928          0.005688           0.002160   \n",
       "Total_intl_charge              0.031133         -0.010938          -0.006947   \n",
       "Customer_service_calls        -0.011945         -0.024548          -0.013192   \n",
       "Churn                          0.018290          0.195689           0.072906   \n",
       "\n",
       "                        Total_eve_calls  Total_eve_charge  \\\n",
       "State                         -0.011494          0.009382   \n",
       "Account_length                 0.018552         -0.015909   \n",
       "Area_code                     -0.018602          0.000707   \n",
       "International_plan             0.010277          0.026623   \n",
       "Voice_mail_plan                0.003404          0.019147   \n",
       "Number_vmail_messages          0.005131          0.011418   \n",
       "Total_day_minutes              0.009059          0.003992   \n",
       "Total_day_calls                0.006473         -0.026006   \n",
       "Total_day_charge               0.009056          0.004002   \n",
       "Total_eve_minutes             -0.007654          1.000000   \n",
       "Total_eve_calls                1.000000         -0.007642   \n",
       "Total_eve_charge              -0.007642          1.000000   \n",
       "Total_night_minutes           -0.000175         -0.013428   \n",
       "Total_night_calls              0.000797          0.009030   \n",
       "Total_night_charge            -0.000135         -0.013464   \n",
       "Total_intl_minutes             0.011012         -0.006923   \n",
       "Total_intl_calls               0.003710          0.002169   \n",
       "Total_intl_charge              0.011000         -0.006955   \n",
       "Customer_service_calls         0.001058         -0.013196   \n",
       "Churn                         -0.001539          0.072893   \n",
       "\n",
       "                        Total_night_minutes  Total_night_calls  \\\n",
       "State                              0.025277           0.005906   \n",
       "Account_length                    -0.008994          -0.024007   \n",
       "Area_code                         -0.003353           0.011455   \n",
       "International_plan                -0.010310           0.018081   \n",
       "Voice_mail_plan                    0.001065           0.013985   \n",
       "Number_vmail_messages             -0.000224           0.008124   \n",
       "Total_day_minutes                  0.013491           0.015054   \n",
       "Total_day_calls                    0.008986          -0.016776   \n",
       "Total_day_charge                   0.013495           0.015057   \n",
       "Total_eve_minutes                 -0.013414           0.009017   \n",
       "Total_eve_calls                   -0.000175           0.000797   \n",
       "Total_eve_charge                  -0.013428           0.009030   \n",
       "Total_night_minutes                1.000000           0.012736   \n",
       "Total_night_calls                  0.012736           1.000000   \n",
       "Total_night_charge                 0.999999           0.012720   \n",
       "Total_intl_minutes                -0.008607          -0.023447   \n",
       "Total_intl_calls                  -0.001110           0.019367   \n",
       "Total_intl_charge                 -0.008510          -0.023434   \n",
       "Customer_service_calls             0.005236          -0.005677   \n",
       "Churn                              0.033639           0.012262   \n",
       "\n",
       "                        Total_night_charge  Total_intl_minutes  \\\n",
       "State                             0.025269           -0.011202   \n",
       "Account_length                   -0.008999            0.011369   \n",
       "Area_code                        -0.003382           -0.013418   \n",
       "International_plan               -0.010316            0.053162   \n",
       "Voice_mail_plan                   0.001066           -0.013963   \n",
       "Number_vmail_messages            -0.000229           -0.004156   \n",
       "Total_day_minutes                 0.013464           -0.011042   \n",
       "Total_day_calls                   0.008972            0.031036   \n",
       "Total_day_charge                  0.013468           -0.011046   \n",
       "Total_eve_minutes                -0.013450           -0.006915   \n",
       "Total_eve_calls                  -0.000135            0.011012   \n",
       "Total_eve_charge                 -0.013464           -0.006923   \n",
       "Total_night_minutes               0.999999           -0.008607   \n",
       "Total_night_calls                 0.012720           -0.023447   \n",
       "Total_night_charge                1.000000           -0.008615   \n",
       "Total_intl_minutes               -0.008615            1.000000   \n",
       "Total_intl_calls                 -0.001099            0.037315   \n",
       "Total_intl_charge                -0.008517            0.999993   \n",
       "Customer_service_calls            0.005257           -0.002826   \n",
       "Churn                             0.033635            0.086204   \n",
       "\n",
       "                        Total_intl_calls  Total_intl_charge  \\\n",
       "State                           0.011980          -0.011191   \n",
       "Account_length                  0.017627           0.011383   \n",
       "Area_code                      -0.027423          -0.013534   \n",
       "International_plan              0.011549           0.053037   \n",
       "Voice_mail_plan                 0.015196          -0.013931   \n",
       "Number_vmail_messages           0.027013          -0.004136   \n",
       "Total_day_minutes               0.005687          -0.010934   \n",
       "Total_day_calls                 0.006928           0.031133   \n",
       "Total_day_charge                0.005688          -0.010938   \n",
       "Total_eve_minutes               0.002160          -0.006947   \n",
       "Total_eve_calls                 0.003710           0.011000   \n",
       "Total_eve_charge                0.002169          -0.006955   \n",
       "Total_night_minutes            -0.001110          -0.008510   \n",
       "Total_night_calls               0.019367          -0.023434   \n",
       "Total_night_charge             -0.001099          -0.008517   \n",
       "Total_intl_minutes              0.037315           0.999993   \n",
       "Total_intl_calls                1.000000           0.037363   \n",
       "Total_intl_charge               0.037363           1.000000   \n",
       "Customer_service_calls         -0.022143          -0.002895   \n",
       "Churn                          -0.069882           0.086216   \n",
       "\n",
       "                        Customer_service_calls     Churn  \n",
       "State                                -0.031970  0.000430  \n",
       "Account_length                        0.002455  0.017728  \n",
       "Area_code                             0.034442  0.001019  \n",
       "International_plan                   -0.035955  0.277489  \n",
       "Voice_mail_plan                      -0.022054 -0.099291  \n",
       "Number_vmail_messages                -0.018787 -0.086474  \n",
       "Total_day_minutes                    -0.024543  0.195688  \n",
       "Total_day_calls                      -0.011945  0.018290  \n",
       "Total_day_charge                     -0.024548  0.195689  \n",
       "Total_eve_minutes                    -0.013192  0.072906  \n",
       "Total_eve_calls                       0.001058 -0.001539  \n",
       "Total_eve_charge                     -0.013196  0.072893  \n",
       "Total_night_minutes                   0.005236  0.033639  \n",
       "Total_night_calls                    -0.005677  0.012262  \n",
       "Total_night_charge                    0.005257  0.033635  \n",
       "Total_intl_minutes                   -0.002826  0.086204  \n",
       "Total_intl_calls                     -0.022143 -0.069882  \n",
       "Total_intl_charge                    -0.002895  0.086216  \n",
       "Customer_service_calls                1.000000  0.202590  \n",
       "Churn                                 0.202590  1.000000  "
      ]
     },
     "execution_count": 133,
     "metadata": {},
     "output_type": "execute_result"
    }
   ],
   "source": [
    "df.corr()"
   ]
  },
  {
   "cell_type": "markdown",
   "metadata": {},
   "source": [
    "# 5) Taking top 5 columns on base of correlation.Only select features data that are highly correlated with target data."
   ]
  },
  {
   "cell_type": "code",
   "execution_count": 253,
   "metadata": {},
   "outputs": [],
   "source": [
    "dff =df[['International_plan','Total_day_minutes','Total_day_charge','Customer_service_calls','Churn']]"
   ]
  },
  {
   "cell_type": "code",
   "execution_count": 254,
   "metadata": {},
   "outputs": [
    {
     "data": {
      "text/html": [
       "<div>\n",
       "<style scoped>\n",
       "    .dataframe tbody tr th:only-of-type {\n",
       "        vertical-align: middle;\n",
       "    }\n",
       "\n",
       "    .dataframe tbody tr th {\n",
       "        vertical-align: top;\n",
       "    }\n",
       "\n",
       "    .dataframe thead th {\n",
       "        text-align: right;\n",
       "    }\n",
       "</style>\n",
       "<table border=\"1\" class=\"dataframe\">\n",
       "  <thead>\n",
       "    <tr style=\"text-align: right;\">\n",
       "      <th></th>\n",
       "      <th>International_plan</th>\n",
       "      <th>Total_day_minutes</th>\n",
       "      <th>Total_day_charge</th>\n",
       "      <th>Customer_service_calls</th>\n",
       "      <th>Churn</th>\n",
       "    </tr>\n",
       "  </thead>\n",
       "  <tbody>\n",
       "    <tr>\n",
       "      <th>0</th>\n",
       "      <td>0</td>\n",
       "      <td>265.1</td>\n",
       "      <td>45.07</td>\n",
       "      <td>1</td>\n",
       "      <td>0</td>\n",
       "    </tr>\n",
       "    <tr>\n",
       "      <th>1</th>\n",
       "      <td>0</td>\n",
       "      <td>161.6</td>\n",
       "      <td>27.47</td>\n",
       "      <td>1</td>\n",
       "      <td>0</td>\n",
       "    </tr>\n",
       "    <tr>\n",
       "      <th>2</th>\n",
       "      <td>0</td>\n",
       "      <td>243.4</td>\n",
       "      <td>41.38</td>\n",
       "      <td>0</td>\n",
       "      <td>0</td>\n",
       "    </tr>\n",
       "    <tr>\n",
       "      <th>3</th>\n",
       "      <td>1</td>\n",
       "      <td>299.4</td>\n",
       "      <td>50.90</td>\n",
       "      <td>2</td>\n",
       "      <td>0</td>\n",
       "    </tr>\n",
       "    <tr>\n",
       "      <th>4</th>\n",
       "      <td>1</td>\n",
       "      <td>166.7</td>\n",
       "      <td>28.34</td>\n",
       "      <td>3</td>\n",
       "      <td>0</td>\n",
       "    </tr>\n",
       "  </tbody>\n",
       "</table>\n",
       "</div>"
      ],
      "text/plain": [
       "   International_plan  Total_day_minutes  Total_day_charge  \\\n",
       "0                   0              265.1             45.07   \n",
       "1                   0              161.6             27.47   \n",
       "2                   0              243.4             41.38   \n",
       "3                   1              299.4             50.90   \n",
       "4                   1              166.7             28.34   \n",
       "\n",
       "   Customer_service_calls  Churn  \n",
       "0                       1      0  \n",
       "1                       1      0  \n",
       "2                       0      0  \n",
       "3                       2      0  \n",
       "4                       3      0  "
      ]
     },
     "execution_count": 254,
     "metadata": {},
     "output_type": "execute_result"
    }
   ],
   "source": [
    "dff.head()"
   ]
  },
  {
   "cell_type": "code",
   "execution_count": 219,
   "metadata": {},
   "outputs": [
    {
     "data": {
      "text/plain": [
       "(2666, 5)"
      ]
     },
     "execution_count": 219,
     "metadata": {},
     "output_type": "execute_result"
    }
   ],
   "source": [
    "dff.shape"
   ]
  },
  {
   "cell_type": "markdown",
   "metadata": {},
   "source": [
    "# 5) Create features and target data. "
   ]
  },
  {
   "cell_type": "code",
   "execution_count": 255,
   "metadata": {},
   "outputs": [],
   "source": [
    "X = dff.drop(['Churn'],axis=1)\n",
    "y = dff['Churn']"
   ]
  },
  {
   "cell_type": "markdown",
   "metadata": {},
   "source": [
    "# 6) Scale the target data (churn)"
   ]
  },
  {
   "cell_type": "code",
   "execution_count": 107,
   "metadata": {},
   "outputs": [],
   "source": [
    "from sklearn.preprocessing import StandardScaler"
   ]
  },
  {
   "cell_type": "code",
   "execution_count": 258,
   "metadata": {},
   "outputs": [],
   "source": [
    "sc = StandardScaler()"
   ]
  },
  {
   "cell_type": "code",
   "execution_count": 259,
   "metadata": {},
   "outputs": [
    {
     "name": "stderr",
     "output_type": "stream",
     "text": [
      "<ipython-input-259-83e2b03c2ddc>:1: SettingWithCopyWarning: \n",
      "A value is trying to be set on a copy of a slice from a DataFrame.\n",
      "Try using .loc[row_indexer,col_indexer] = value instead\n",
      "\n",
      "See the caveats in the documentation: https://pandas.pydata.org/pandas-docs/stable/user_guide/indexing.html#returning-a-view-versus-a-copy\n",
      "  dff[['Churn']]= sc.fit_transform(df[['Churn']])\n",
      "C:\\Users\\nisha\\anaconda3\\lib\\site-packages\\pandas\\core\\indexing.py:1736: SettingWithCopyWarning: \n",
      "A value is trying to be set on a copy of a slice from a DataFrame.\n",
      "Try using .loc[row_indexer,col_indexer] = value instead\n",
      "\n",
      "See the caveats in the documentation: https://pandas.pydata.org/pandas-docs/stable/user_guide/indexing.html#returning-a-view-versus-a-copy\n",
      "  isetter(loc, value[:, i].tolist())\n"
     ]
    }
   ],
   "source": [
    "dff[['Churn']]= sc.fit_transform(df[['Churn']])"
   ]
  },
  {
   "cell_type": "code",
   "execution_count": 260,
   "metadata": {},
   "outputs": [
    {
     "data": {
      "text/html": [
       "<div>\n",
       "<style scoped>\n",
       "    .dataframe tbody tr th:only-of-type {\n",
       "        vertical-align: middle;\n",
       "    }\n",
       "\n",
       "    .dataframe tbody tr th {\n",
       "        vertical-align: top;\n",
       "    }\n",
       "\n",
       "    .dataframe thead th {\n",
       "        text-align: right;\n",
       "    }\n",
       "</style>\n",
       "<table border=\"1\" class=\"dataframe\">\n",
       "  <thead>\n",
       "    <tr style=\"text-align: right;\">\n",
       "      <th></th>\n",
       "      <th>International_plan</th>\n",
       "      <th>Total_day_minutes</th>\n",
       "      <th>Total_day_charge</th>\n",
       "      <th>Customer_service_calls</th>\n",
       "      <th>Churn</th>\n",
       "    </tr>\n",
       "  </thead>\n",
       "  <tbody>\n",
       "    <tr>\n",
       "      <th>0</th>\n",
       "      <td>0</td>\n",
       "      <td>265.1</td>\n",
       "      <td>45.07</td>\n",
       "      <td>1</td>\n",
       "      <td>-0.412704</td>\n",
       "    </tr>\n",
       "    <tr>\n",
       "      <th>1</th>\n",
       "      <td>0</td>\n",
       "      <td>161.6</td>\n",
       "      <td>27.47</td>\n",
       "      <td>1</td>\n",
       "      <td>-0.412704</td>\n",
       "    </tr>\n",
       "    <tr>\n",
       "      <th>2</th>\n",
       "      <td>0</td>\n",
       "      <td>243.4</td>\n",
       "      <td>41.38</td>\n",
       "      <td>0</td>\n",
       "      <td>-0.412704</td>\n",
       "    </tr>\n",
       "    <tr>\n",
       "      <th>3</th>\n",
       "      <td>1</td>\n",
       "      <td>299.4</td>\n",
       "      <td>50.90</td>\n",
       "      <td>2</td>\n",
       "      <td>-0.412704</td>\n",
       "    </tr>\n",
       "    <tr>\n",
       "      <th>4</th>\n",
       "      <td>1</td>\n",
       "      <td>166.7</td>\n",
       "      <td>28.34</td>\n",
       "      <td>3</td>\n",
       "      <td>-0.412704</td>\n",
       "    </tr>\n",
       "    <tr>\n",
       "      <th>...</th>\n",
       "      <td>...</td>\n",
       "      <td>...</td>\n",
       "      <td>...</td>\n",
       "      <td>...</td>\n",
       "      <td>...</td>\n",
       "    </tr>\n",
       "    <tr>\n",
       "      <th>2661</th>\n",
       "      <td>0</td>\n",
       "      <td>134.7</td>\n",
       "      <td>22.90</td>\n",
       "      <td>2</td>\n",
       "      <td>-0.412704</td>\n",
       "    </tr>\n",
       "    <tr>\n",
       "      <th>2662</th>\n",
       "      <td>0</td>\n",
       "      <td>156.2</td>\n",
       "      <td>26.55</td>\n",
       "      <td>2</td>\n",
       "      <td>-0.412704</td>\n",
       "    </tr>\n",
       "    <tr>\n",
       "      <th>2663</th>\n",
       "      <td>0</td>\n",
       "      <td>231.1</td>\n",
       "      <td>39.29</td>\n",
       "      <td>3</td>\n",
       "      <td>-0.412704</td>\n",
       "    </tr>\n",
       "    <tr>\n",
       "      <th>2664</th>\n",
       "      <td>0</td>\n",
       "      <td>180.8</td>\n",
       "      <td>30.74</td>\n",
       "      <td>2</td>\n",
       "      <td>-0.412704</td>\n",
       "    </tr>\n",
       "    <tr>\n",
       "      <th>2665</th>\n",
       "      <td>0</td>\n",
       "      <td>234.4</td>\n",
       "      <td>39.85</td>\n",
       "      <td>0</td>\n",
       "      <td>-0.412704</td>\n",
       "    </tr>\n",
       "  </tbody>\n",
       "</table>\n",
       "<p>2666 rows × 5 columns</p>\n",
       "</div>"
      ],
      "text/plain": [
       "      International_plan  Total_day_minutes  Total_day_charge  \\\n",
       "0                      0              265.1             45.07   \n",
       "1                      0              161.6             27.47   \n",
       "2                      0              243.4             41.38   \n",
       "3                      1              299.4             50.90   \n",
       "4                      1              166.7             28.34   \n",
       "...                  ...                ...               ...   \n",
       "2661                   0              134.7             22.90   \n",
       "2662                   0              156.2             26.55   \n",
       "2663                   0              231.1             39.29   \n",
       "2664                   0              180.8             30.74   \n",
       "2665                   0              234.4             39.85   \n",
       "\n",
       "      Customer_service_calls     Churn  \n",
       "0                          1 -0.412704  \n",
       "1                          1 -0.412704  \n",
       "2                          0 -0.412704  \n",
       "3                          2 -0.412704  \n",
       "4                          3 -0.412704  \n",
       "...                      ...       ...  \n",
       "2661                       2 -0.412704  \n",
       "2662                       2 -0.412704  \n",
       "2663                       3 -0.412704  \n",
       "2664                       2 -0.412704  \n",
       "2665                       0 -0.412704  \n",
       "\n",
       "[2666 rows x 5 columns]"
      ]
     },
     "execution_count": 260,
     "metadata": {},
     "output_type": "execute_result"
    }
   ],
   "source": [
    "dff"
   ]
  },
  {
   "cell_type": "code",
   "execution_count": 261,
   "metadata": {},
   "outputs": [],
   "source": [
    "from sklearn.model_selection import train_test_split"
   ]
  },
  {
   "cell_type": "code",
   "execution_count": 262,
   "metadata": {},
   "outputs": [],
   "source": [
    "X_train,X_test,y_train,y_test = train_test_split(X,y,test_size=0.2)"
   ]
  },
  {
   "cell_type": "markdown",
   "metadata": {},
   "source": [
    "# 7) Check the shape of both training data and testing data"
   ]
  },
  {
   "cell_type": "code",
   "execution_count": 263,
   "metadata": {},
   "outputs": [
    {
     "data": {
      "text/plain": [
       "(2132, 4)"
      ]
     },
     "execution_count": 263,
     "metadata": {},
     "output_type": "execute_result"
    }
   ],
   "source": [
    "X_train.shape"
   ]
  },
  {
   "cell_type": "code",
   "execution_count": 234,
   "metadata": {},
   "outputs": [
    {
     "data": {
      "text/plain": [
       "(534, 4)"
      ]
     },
     "execution_count": 234,
     "metadata": {},
     "output_type": "execute_result"
    }
   ],
   "source": [
    "X_test.shape"
   ]
  },
  {
   "cell_type": "code",
   "execution_count": 235,
   "metadata": {},
   "outputs": [
    {
     "data": {
      "text/plain": [
       "(2132,)"
      ]
     },
     "execution_count": 235,
     "metadata": {},
     "output_type": "execute_result"
    }
   ],
   "source": [
    "y_train.shape"
   ]
  },
  {
   "cell_type": "code",
   "execution_count": 121,
   "metadata": {},
   "outputs": [
    {
     "data": {
      "text/plain": [
       "(534,)"
      ]
     },
     "execution_count": 121,
     "metadata": {},
     "output_type": "execute_result"
    }
   ],
   "source": [
    "y_test.shape"
   ]
  },
  {
   "cell_type": "markdown",
   "metadata": {},
   "source": [
    "# 8) Apply Logistic regression "
   ]
  },
  {
   "cell_type": "code",
   "execution_count": 264,
   "metadata": {},
   "outputs": [],
   "source": [
    "from sklearn.linear_model import LogisticRegression"
   ]
  },
  {
   "cell_type": "code",
   "execution_count": 265,
   "metadata": {},
   "outputs": [],
   "source": [
    "clf = LogisticRegression()"
   ]
  },
  {
   "cell_type": "code",
   "execution_count": 266,
   "metadata": {},
   "outputs": [
    {
     "data": {
      "text/plain": [
       "LogisticRegression()"
      ]
     },
     "execution_count": 266,
     "metadata": {},
     "output_type": "execute_result"
    }
   ],
   "source": [
    "clf.fit(X_train,y_train)"
   ]
  },
  {
   "cell_type": "code",
   "execution_count": 267,
   "metadata": {},
   "outputs": [
    {
     "data": {
      "text/plain": [
       "0.8614232209737828"
      ]
     },
     "execution_count": 267,
     "metadata": {},
     "output_type": "execute_result"
    }
   ],
   "source": [
    "clf.score(X_test,y_test)"
   ]
  },
  {
   "cell_type": "code",
   "execution_count": 268,
   "metadata": {},
   "outputs": [
    {
     "data": {
      "text/plain": [
       "0.8545966228893058"
      ]
     },
     "execution_count": 268,
     "metadata": {},
     "output_type": "execute_result"
    }
   ],
   "source": [
    "clf.score(X_train,y_train)"
   ]
  },
  {
   "cell_type": "code",
   "execution_count": 269,
   "metadata": {},
   "outputs": [],
   "source": [
    "y_pred = clf.predict(X_test)"
   ]
  },
  {
   "cell_type": "markdown",
   "metadata": {},
   "source": [
    "# 9) Display confusion matrix"
   ]
  },
  {
   "cell_type": "code",
   "execution_count": 270,
   "metadata": {},
   "outputs": [],
   "source": [
    "from sklearn.metrics import r2_score,accuracy_score,precision_score,recall_score,confusion_matrix,f1_score"
   ]
  },
  {
   "cell_type": "code",
   "execution_count": 271,
   "metadata": {},
   "outputs": [
    {
     "data": {
      "text/plain": [
       "array([[452,  62],\n",
       "       [ 12,   8]], dtype=int64)"
      ]
     },
     "execution_count": 271,
     "metadata": {},
     "output_type": "execute_result"
    }
   ],
   "source": [
    "confusion_matrix(y_pred,y_test)"
   ]
  },
  {
   "cell_type": "code",
   "execution_count": 272,
   "metadata": {},
   "outputs": [
    {
     "data": {
      "text/plain": [
       "0.8614232209737828"
      ]
     },
     "execution_count": 272,
     "metadata": {},
     "output_type": "execute_result"
    }
   ],
   "source": [
    "accuracy_score(y_pred,y_test)"
   ]
  },
  {
   "cell_type": "code",
   "execution_count": 136,
   "metadata": {},
   "outputs": [
    {
     "data": {
      "text/plain": [
       "0.18421052631578946"
      ]
     },
     "execution_count": 136,
     "metadata": {},
     "output_type": "execute_result"
    }
   ],
   "source": [
    "precision_score(y_pred,y_test)"
   ]
  },
  {
   "cell_type": "code",
   "execution_count": 137,
   "metadata": {},
   "outputs": [
    {
     "data": {
      "text/plain": [
       "0.7777777777777778"
      ]
     },
     "execution_count": 137,
     "metadata": {},
     "output_type": "execute_result"
    }
   ],
   "source": [
    "recall_score(y_pred,y_test)"
   ]
  },
  {
   "cell_type": "code",
   "execution_count": 138,
   "metadata": {},
   "outputs": [
    {
     "data": {
      "text/plain": [
       "0.2978723404255319"
      ]
     },
     "execution_count": 138,
     "metadata": {},
     "output_type": "execute_result"
    }
   ],
   "source": [
    "f1_score(y_pred,y_test)"
   ]
  },
  {
   "cell_type": "markdown",
   "metadata": {},
   "source": [
    "# 10) Perform Hyper parameter tuning. Parameter of svm  c=1 and c=100"
   ]
  },
  {
   "cell_type": "code",
   "execution_count": 174,
   "metadata": {},
   "outputs": [],
   "source": [
    "from sklearn.svm import SVC"
   ]
  },
  {
   "cell_type": "code",
   "execution_count": 176,
   "metadata": {},
   "outputs": [
    {
     "data": {
      "text/plain": [
       "SVC()"
      ]
     },
     "execution_count": 176,
     "metadata": {},
     "output_type": "execute_result"
    }
   ],
   "source": [
    "clf = SVC()\n",
    "clf.fit(X_train,y_train)"
   ]
  },
  {
   "cell_type": "markdown",
   "metadata": {},
   "source": [
    "# C=1 by defalut"
   ]
  },
  {
   "cell_type": "code",
   "execution_count": 177,
   "metadata": {},
   "outputs": [
    {
     "data": {
      "text/plain": [
       "0.8632958801498127"
      ]
     },
     "execution_count": 177,
     "metadata": {},
     "output_type": "execute_result"
    }
   ],
   "source": [
    "clf.score(X_test,y_test)"
   ]
  },
  {
   "cell_type": "code",
   "execution_count": 180,
   "metadata": {},
   "outputs": [
    {
     "data": {
      "text/plain": [
       "0.8583489681050657"
      ]
     },
     "execution_count": 180,
     "metadata": {},
     "output_type": "execute_result"
    }
   ],
   "source": [
    "clf.score(X_train,y_train)"
   ]
  },
  {
   "cell_type": "code",
   "execution_count": 182,
   "metadata": {},
   "outputs": [],
   "source": [
    "y_pred = clf.predict(X_test)"
   ]
  },
  {
   "cell_type": "code",
   "execution_count": 183,
   "metadata": {},
   "outputs": [
    {
     "data": {
      "text/plain": [
       "0.8632958801498127"
      ]
     },
     "execution_count": 183,
     "metadata": {},
     "output_type": "execute_result"
    }
   ],
   "source": [
    "accuracy_score(y_test,y_pred)"
   ]
  },
  {
   "cell_type": "markdown",
   "metadata": {},
   "source": [
    "# C = 100"
   ]
  },
  {
   "cell_type": "code",
   "execution_count": 178,
   "metadata": {},
   "outputs": [
    {
     "data": {
      "text/plain": [
       "SVC(C=100)"
      ]
     },
     "execution_count": 178,
     "metadata": {},
     "output_type": "execute_result"
    }
   ],
   "source": [
    "clf_1 = SVC(C=100)\n",
    "clf_1.fit(X_train,y_train)"
   ]
  },
  {
   "cell_type": "code",
   "execution_count": 179,
   "metadata": {},
   "outputs": [
    {
     "data": {
      "text/plain": [
       "0.8707865168539326"
      ]
     },
     "execution_count": 179,
     "metadata": {},
     "output_type": "execute_result"
    }
   ],
   "source": [
    "clf_1.score(X_test,y_test)"
   ]
  },
  {
   "cell_type": "code",
   "execution_count": 181,
   "metadata": {},
   "outputs": [
    {
     "data": {
      "text/plain": [
       "0.8588180112570356"
      ]
     },
     "execution_count": 181,
     "metadata": {},
     "output_type": "execute_result"
    }
   ],
   "source": [
    "clf_1.score(X_train,y_train)"
   ]
  },
  {
   "cell_type": "code",
   "execution_count": 184,
   "metadata": {},
   "outputs": [],
   "source": [
    "y_pred1 = clf_1.predict(X_test)"
   ]
  },
  {
   "cell_type": "code",
   "execution_count": 185,
   "metadata": {},
   "outputs": [
    {
     "data": {
      "text/plain": [
       "0.8707865168539326"
      ]
     },
     "execution_count": 185,
     "metadata": {},
     "output_type": "execute_result"
    }
   ],
   "source": [
    "accuracy_score(y_test,y_pred1)"
   ]
  },
  {
   "cell_type": "markdown",
   "metadata": {},
   "source": [
    "# 11) Create a model . Putted all models in loop"
   ]
  },
  {
   "cell_type": "code",
   "execution_count": 192,
   "metadata": {},
   "outputs": [],
   "source": [
    "from sklearn.tree import DecisionTreeClassifier\n",
    "from sklearn.neighbors import KNeighborsClassifier\n",
    "from sklearn.ensemble import RandomForestClassifier\n",
    "from sklearn.svm import SVC\n",
    "from sklearn.ensemble import AdaBoostClassifier"
   ]
  },
  {
   "cell_type": "code",
   "execution_count": 194,
   "metadata": {},
   "outputs": [
    {
     "name": "stdout",
     "output_type": "stream",
     "text": [
      "<class 'sklearn.tree._classes.DecisionTreeClassifier'> accuracy 0.8520599250936329\n",
      "<class 'sklearn.svm._classes.SVC'> accuracy 0.8632958801498127\n",
      "<class 'sklearn.ensemble._forest.RandomForestClassifier'> accuracy 0.8632958801498127\n",
      "<class 'sklearn.neighbors._classification.KNeighborsClassifier'> accuracy 0.8520599250936329\n",
      "<class 'sklearn.ensemble._weight_boosting.AdaBoostClassifier'> accuracy 0.8689138576779026\n"
     ]
    }
   ],
   "source": [
    "model = [DecisionTreeClassifier,SVC,RandomForestClassifier,KNeighborsClassifier, AdaBoostClassifier]\n",
    "\n",
    "for mod in model:\n",
    "    reg = mod()\n",
    "    reg = reg.fit(X_train,y_train)\n",
    "    print(mod , 'accuracy',reg.score(X_test,y_test))"
   ]
  },
  {
   "cell_type": "code",
   "execution_count": 195,
   "metadata": {},
   "outputs": [],
   "source": [
    "from sklearn.model_selection import KFold,cross_val_score"
   ]
  },
  {
   "cell_type": "code",
   "execution_count": null,
   "metadata": {},
   "outputs": [],
   "source": [
    "from sklearn.model_selection import KFold,cross_val_score"
   ]
  },
  {
   "cell_type": "markdown",
   "metadata": {},
   "source": [
    "# 12) Check the model score of both training and testing data "
   ]
  },
  {
   "cell_type": "markdown",
   "metadata": {},
   "source": [
    "# 13) Perform cross validation technique with SVM Classifier .\n",
    "#Cross validation on all classifier are done in loop"
   ]
  },
  {
   "cell_type": "markdown",
   "metadata": {},
   "source": [
    "# Training data"
   ]
  },
  {
   "cell_type": "code",
   "execution_count": 196,
   "metadata": {},
   "outputs": [
    {
     "name": "stdout",
     "output_type": "stream",
     "text": [
      "KNN 0.8691479092624281\n",
      "CART 0.8367798692466323\n",
      "RF 0.8522574700539687\n",
      "SVM 0.8546158571365889\n",
      "AdaBoost 0.864929138695099\n"
     ]
    }
   ],
   "source": [
    "models = []\n",
    "models.append(('KNN', KNeighborsClassifier()))\n",
    "models.append(('CART', DecisionTreeClassifier()))\n",
    "models.append(('RF', RandomForestClassifier()))\n",
    "models.append(('SVM', SVC()))\n",
    "models.append(('AdaBoost', AdaBoostClassifier()))\n",
    "\n",
    "\n",
    "results = []\n",
    "names = []\n",
    "for name,model in models:\n",
    "    kfold = KFold(n_splits=10)\n",
    "    cv_result =cross_val_score(model,X_train,y_train,cv=kfold)\n",
    "    names.append(name)\n",
    "    results.append(cv_result)\n",
    "for i in range(len(names)):\n",
    "    print(names[i],results[i].mean())"
   ]
  },
  {
   "cell_type": "markdown",
   "metadata": {},
   "source": [
    "# Testing data"
   ]
  },
  {
   "cell_type": "code",
   "execution_count": 197,
   "metadata": {},
   "outputs": [
    {
     "name": "stdout",
     "output_type": "stream",
     "text": [
      "KNN 0.8540181691125088\n",
      "CART 0.8538085255066388\n",
      "RF 0.8745283018867924\n",
      "SVM 0.8670859538784066\n",
      "AdaBoost 0.8633123689727464\n"
     ]
    }
   ],
   "source": [
    "models = []\n",
    "models.append(('KNN', KNeighborsClassifier()))\n",
    "models.append(('CART', DecisionTreeClassifier()))\n",
    "models.append(('RF', RandomForestClassifier()))\n",
    "models.append(('SVM', SVC()))\n",
    "models.append(('AdaBoost', AdaBoostClassifier()))\n",
    "\n",
    "\n",
    "results = []\n",
    "names = []\n",
    "for name,model in models:\n",
    "    kfold = KFold(n_splits=10)\n",
    "    cv_result =cross_val_score(model,X_test,y_test,cv=kfold)\n",
    "    names.append(name)\n",
    "    results.append(cv_result)\n",
    "for i in range(len(names)):\n",
    "    print(names[i],results[i].mean())"
   ]
  },
  {
   "cell_type": "markdown",
   "metadata": {},
   "source": [
    "# Here we see RandomForestRegressor gives us best score so we can use RandomForestCLassifier algorithm"
   ]
  },
  {
   "cell_type": "code",
   "execution_count": 199,
   "metadata": {},
   "outputs": [
    {
     "data": {
      "text/plain": [
       "RandomForestClassifier()"
      ]
     },
     "execution_count": 199,
     "metadata": {},
     "output_type": "execute_result"
    }
   ],
   "source": [
    "reg_rf = RandomForestClassifier()\n",
    "reg_rf.fit(X_train, y_train)"
   ]
  },
  {
   "cell_type": "code",
   "execution_count": 200,
   "metadata": {},
   "outputs": [],
   "source": [
    "y_pred = reg_rf.predict(X_test)"
   ]
  },
  {
   "cell_type": "code",
   "execution_count": 201,
   "metadata": {},
   "outputs": [
    {
     "data": {
      "text/plain": [
       "0.8558052434456929"
      ]
     },
     "execution_count": 201,
     "metadata": {},
     "output_type": "execute_result"
    }
   ],
   "source": [
    "reg_rf.score(X_test, y_test)"
   ]
  },
  {
   "cell_type": "markdown",
   "metadata": {},
   "source": [
    "# 14) Perform hyperparameter tuning with different classifier models.\n",
    "As random forest has higest accuracy we will do hyper parameter tuning on random forest only."
   ]
  },
  {
   "cell_type": "markdown",
   "metadata": {},
   "source": [
    "# Perform Hyper-prameter tuning using RandomizedSearchCV"
   ]
  },
  {
   "cell_type": "code",
   "execution_count": 202,
   "metadata": {},
   "outputs": [],
   "source": [
    "from sklearn.model_selection import RandomizedSearchCV"
   ]
  },
  {
   "cell_type": "markdown",
   "metadata": {},
   "source": [
    "# create list for all possible parameter"
   ]
  },
  {
   "cell_type": "code",
   "execution_count": 203,
   "metadata": {},
   "outputs": [],
   "source": [
    "\n",
    "n_estimators = [int(x) for x in np.linspace(start = 100, stop = 1200, num = 12)]\n",
    "max_features = ['auto', 'sqrt']\n",
    "max_depth = [int(x) for x in np.linspace(5, 30, num = 6)]\n",
    "min_samples_split = [2, 5, 10, 15, 100]\n",
    "min_samples_leaf = [1, 2, 5, 10]"
   ]
  },
  {
   "cell_type": "code",
   "execution_count": 204,
   "metadata": {},
   "outputs": [],
   "source": [
    "random_grid = {'n_estimators': n_estimators,\n",
    "               'max_features': max_features,\n",
    "               'max_depth': max_depth,\n",
    "               'min_samples_split': min_samples_split,\n",
    "               'min_samples_leaf': min_samples_leaf}"
   ]
  },
  {
   "cell_type": "markdown",
   "metadata": {},
   "source": [
    "# Random search of parameters, using 5 fold cross validation and  search across 100 different combinations"
   ]
  },
  {
   "cell_type": "code",
   "execution_count": 205,
   "metadata": {},
   "outputs": [],
   "source": [
    "\n",
    "\n",
    "rf_random = RandomizedSearchCV(estimator = reg_rf, \n",
    "                               param_distributions = random_grid,\n",
    "                               scoring='neg_mean_squared_error', \n",
    "                               n_iter = 10, cv = 5,\n",
    "                               verbose=2,\n",
    "                               random_state=42, n_jobs = 1)"
   ]
  },
  {
   "cell_type": "code",
   "execution_count": 207,
   "metadata": {},
   "outputs": [
    {
     "name": "stdout",
     "output_type": "stream",
     "text": [
      "Fitting 5 folds for each of 10 candidates, totalling 50 fits\n",
      "[CV] n_estimators=900, min_samples_split=5, min_samples_leaf=5, max_features=sqrt, max_depth=10 \n"
     ]
    },
    {
     "name": "stderr",
     "output_type": "stream",
     "text": [
      "[Parallel(n_jobs=1)]: Using backend SequentialBackend with 1 concurrent workers.\n"
     ]
    },
    {
     "name": "stdout",
     "output_type": "stream",
     "text": [
      "[CV]  n_estimators=900, min_samples_split=5, min_samples_leaf=5, max_features=sqrt, max_depth=10, total=   2.0s\n",
      "[CV] n_estimators=900, min_samples_split=5, min_samples_leaf=5, max_features=sqrt, max_depth=10 \n"
     ]
    },
    {
     "name": "stderr",
     "output_type": "stream",
     "text": [
      "[Parallel(n_jobs=1)]: Done   1 out of   1 | elapsed:    1.9s remaining:    0.0s\n"
     ]
    },
    {
     "name": "stdout",
     "output_type": "stream",
     "text": [
      "[CV]  n_estimators=900, min_samples_split=5, min_samples_leaf=5, max_features=sqrt, max_depth=10, total=   2.2s\n",
      "[CV] n_estimators=900, min_samples_split=5, min_samples_leaf=5, max_features=sqrt, max_depth=10 \n",
      "[CV]  n_estimators=900, min_samples_split=5, min_samples_leaf=5, max_features=sqrt, max_depth=10, total=   2.2s\n",
      "[CV] n_estimators=900, min_samples_split=5, min_samples_leaf=5, max_features=sqrt, max_depth=10 \n",
      "[CV]  n_estimators=900, min_samples_split=5, min_samples_leaf=5, max_features=sqrt, max_depth=10, total=   2.1s\n",
      "[CV] n_estimators=900, min_samples_split=5, min_samples_leaf=5, max_features=sqrt, max_depth=10 \n",
      "[CV]  n_estimators=900, min_samples_split=5, min_samples_leaf=5, max_features=sqrt, max_depth=10, total=   2.2s\n",
      "[CV] n_estimators=1100, min_samples_split=10, min_samples_leaf=2, max_features=sqrt, max_depth=15 \n",
      "[CV]  n_estimators=1100, min_samples_split=10, min_samples_leaf=2, max_features=sqrt, max_depth=15, total=   3.2s\n",
      "[CV] n_estimators=1100, min_samples_split=10, min_samples_leaf=2, max_features=sqrt, max_depth=15 \n",
      "[CV]  n_estimators=1100, min_samples_split=10, min_samples_leaf=2, max_features=sqrt, max_depth=15, total=   2.9s\n",
      "[CV] n_estimators=1100, min_samples_split=10, min_samples_leaf=2, max_features=sqrt, max_depth=15 \n",
      "[CV]  n_estimators=1100, min_samples_split=10, min_samples_leaf=2, max_features=sqrt, max_depth=15, total=   2.4s\n",
      "[CV] n_estimators=1100, min_samples_split=10, min_samples_leaf=2, max_features=sqrt, max_depth=15 \n",
      "[CV]  n_estimators=1100, min_samples_split=10, min_samples_leaf=2, max_features=sqrt, max_depth=15, total=   2.3s\n",
      "[CV] n_estimators=1100, min_samples_split=10, min_samples_leaf=2, max_features=sqrt, max_depth=15 \n",
      "[CV]  n_estimators=1100, min_samples_split=10, min_samples_leaf=2, max_features=sqrt, max_depth=15, total=   3.3s\n",
      "[CV] n_estimators=300, min_samples_split=100, min_samples_leaf=5, max_features=auto, max_depth=15 \n",
      "[CV]  n_estimators=300, min_samples_split=100, min_samples_leaf=5, max_features=auto, max_depth=15, total=   0.7s\n",
      "[CV] n_estimators=300, min_samples_split=100, min_samples_leaf=5, max_features=auto, max_depth=15 \n",
      "[CV]  n_estimators=300, min_samples_split=100, min_samples_leaf=5, max_features=auto, max_depth=15, total=   0.7s\n",
      "[CV] n_estimators=300, min_samples_split=100, min_samples_leaf=5, max_features=auto, max_depth=15 \n",
      "[CV]  n_estimators=300, min_samples_split=100, min_samples_leaf=5, max_features=auto, max_depth=15, total=   0.6s\n",
      "[CV] n_estimators=300, min_samples_split=100, min_samples_leaf=5, max_features=auto, max_depth=15 \n",
      "[CV]  n_estimators=300, min_samples_split=100, min_samples_leaf=5, max_features=auto, max_depth=15, total=   0.6s\n",
      "[CV] n_estimators=300, min_samples_split=100, min_samples_leaf=5, max_features=auto, max_depth=15 \n",
      "[CV]  n_estimators=300, min_samples_split=100, min_samples_leaf=5, max_features=auto, max_depth=15, total=   0.7s\n",
      "[CV] n_estimators=400, min_samples_split=5, min_samples_leaf=5, max_features=auto, max_depth=15 \n",
      "[CV]  n_estimators=400, min_samples_split=5, min_samples_leaf=5, max_features=auto, max_depth=15, total=   0.8s\n",
      "[CV] n_estimators=400, min_samples_split=5, min_samples_leaf=5, max_features=auto, max_depth=15 \n",
      "[CV]  n_estimators=400, min_samples_split=5, min_samples_leaf=5, max_features=auto, max_depth=15, total=   0.8s\n",
      "[CV] n_estimators=400, min_samples_split=5, min_samples_leaf=5, max_features=auto, max_depth=15 \n",
      "[CV]  n_estimators=400, min_samples_split=5, min_samples_leaf=5, max_features=auto, max_depth=15, total=   0.8s\n",
      "[CV] n_estimators=400, min_samples_split=5, min_samples_leaf=5, max_features=auto, max_depth=15 \n",
      "[CV]  n_estimators=400, min_samples_split=5, min_samples_leaf=5, max_features=auto, max_depth=15, total=   0.9s\n",
      "[CV] n_estimators=400, min_samples_split=5, min_samples_leaf=5, max_features=auto, max_depth=15 \n",
      "[CV]  n_estimators=400, min_samples_split=5, min_samples_leaf=5, max_features=auto, max_depth=15, total=   1.2s\n",
      "[CV] n_estimators=700, min_samples_split=5, min_samples_leaf=10, max_features=auto, max_depth=20 \n",
      "[CV]  n_estimators=700, min_samples_split=5, min_samples_leaf=10, max_features=auto, max_depth=20, total=   1.7s\n",
      "[CV] n_estimators=700, min_samples_split=5, min_samples_leaf=10, max_features=auto, max_depth=20 \n",
      "[CV]  n_estimators=700, min_samples_split=5, min_samples_leaf=10, max_features=auto, max_depth=20, total=   1.5s\n",
      "[CV] n_estimators=700, min_samples_split=5, min_samples_leaf=10, max_features=auto, max_depth=20 \n",
      "[CV]  n_estimators=700, min_samples_split=5, min_samples_leaf=10, max_features=auto, max_depth=20, total=   1.4s\n",
      "[CV] n_estimators=700, min_samples_split=5, min_samples_leaf=10, max_features=auto, max_depth=20 \n",
      "[CV]  n_estimators=700, min_samples_split=5, min_samples_leaf=10, max_features=auto, max_depth=20, total=   1.4s\n",
      "[CV] n_estimators=700, min_samples_split=5, min_samples_leaf=10, max_features=auto, max_depth=20 \n",
      "[CV]  n_estimators=700, min_samples_split=5, min_samples_leaf=10, max_features=auto, max_depth=20, total=   1.4s\n",
      "[CV] n_estimators=1000, min_samples_split=2, min_samples_leaf=1, max_features=sqrt, max_depth=25 \n",
      "[CV]  n_estimators=1000, min_samples_split=2, min_samples_leaf=1, max_features=sqrt, max_depth=25, total=   2.8s\n",
      "[CV] n_estimators=1000, min_samples_split=2, min_samples_leaf=1, max_features=sqrt, max_depth=25 \n",
      "[CV]  n_estimators=1000, min_samples_split=2, min_samples_leaf=1, max_features=sqrt, max_depth=25, total=   2.4s\n",
      "[CV] n_estimators=1000, min_samples_split=2, min_samples_leaf=1, max_features=sqrt, max_depth=25 \n",
      "[CV]  n_estimators=1000, min_samples_split=2, min_samples_leaf=1, max_features=sqrt, max_depth=25, total=   2.2s\n",
      "[CV] n_estimators=1000, min_samples_split=2, min_samples_leaf=1, max_features=sqrt, max_depth=25 \n",
      "[CV]  n_estimators=1000, min_samples_split=2, min_samples_leaf=1, max_features=sqrt, max_depth=25, total=   2.4s\n",
      "[CV] n_estimators=1000, min_samples_split=2, min_samples_leaf=1, max_features=sqrt, max_depth=25 \n",
      "[CV]  n_estimators=1000, min_samples_split=2, min_samples_leaf=1, max_features=sqrt, max_depth=25, total=   2.8s\n",
      "[CV] n_estimators=1100, min_samples_split=15, min_samples_leaf=10, max_features=sqrt, max_depth=5 \n",
      "[CV]  n_estimators=1100, min_samples_split=15, min_samples_leaf=10, max_features=sqrt, max_depth=5, total=   1.9s\n",
      "[CV] n_estimators=1100, min_samples_split=15, min_samples_leaf=10, max_features=sqrt, max_depth=5 \n",
      "[CV]  n_estimators=1100, min_samples_split=15, min_samples_leaf=10, max_features=sqrt, max_depth=5, total=   1.9s\n",
      "[CV] n_estimators=1100, min_samples_split=15, min_samples_leaf=10, max_features=sqrt, max_depth=5 \n",
      "[CV]  n_estimators=1100, min_samples_split=15, min_samples_leaf=10, max_features=sqrt, max_depth=5, total=   1.9s\n",
      "[CV] n_estimators=1100, min_samples_split=15, min_samples_leaf=10, max_features=sqrt, max_depth=5 \n",
      "[CV]  n_estimators=1100, min_samples_split=15, min_samples_leaf=10, max_features=sqrt, max_depth=5, total=   2.5s\n",
      "[CV] n_estimators=1100, min_samples_split=15, min_samples_leaf=10, max_features=sqrt, max_depth=5 \n",
      "[CV]  n_estimators=1100, min_samples_split=15, min_samples_leaf=10, max_features=sqrt, max_depth=5, total=   2.0s\n",
      "[CV] n_estimators=300, min_samples_split=15, min_samples_leaf=1, max_features=sqrt, max_depth=15 \n",
      "[CV]  n_estimators=300, min_samples_split=15, min_samples_leaf=1, max_features=sqrt, max_depth=15, total=   0.6s\n",
      "[CV] n_estimators=300, min_samples_split=15, min_samples_leaf=1, max_features=sqrt, max_depth=15 \n",
      "[CV]  n_estimators=300, min_samples_split=15, min_samples_leaf=1, max_features=sqrt, max_depth=15, total=   0.7s\n",
      "[CV] n_estimators=300, min_samples_split=15, min_samples_leaf=1, max_features=sqrt, max_depth=15 \n",
      "[CV]  n_estimators=300, min_samples_split=15, min_samples_leaf=1, max_features=sqrt, max_depth=15, total=   0.7s\n",
      "[CV] n_estimators=300, min_samples_split=15, min_samples_leaf=1, max_features=sqrt, max_depth=15 \n",
      "[CV]  n_estimators=300, min_samples_split=15, min_samples_leaf=1, max_features=sqrt, max_depth=15, total=   0.6s\n",
      "[CV] n_estimators=300, min_samples_split=15, min_samples_leaf=1, max_features=sqrt, max_depth=15 \n",
      "[CV]  n_estimators=300, min_samples_split=15, min_samples_leaf=1, max_features=sqrt, max_depth=15, total=   0.7s\n",
      "[CV] n_estimators=700, min_samples_split=10, min_samples_leaf=2, max_features=sqrt, max_depth=5 \n",
      "[CV]  n_estimators=700, min_samples_split=10, min_samples_leaf=2, max_features=sqrt, max_depth=5, total=   1.3s\n",
      "[CV] n_estimators=700, min_samples_split=10, min_samples_leaf=2, max_features=sqrt, max_depth=5 \n",
      "[CV]  n_estimators=700, min_samples_split=10, min_samples_leaf=2, max_features=sqrt, max_depth=5, total=   1.6s\n",
      "[CV] n_estimators=700, min_samples_split=10, min_samples_leaf=2, max_features=sqrt, max_depth=5 \n",
      "[CV]  n_estimators=700, min_samples_split=10, min_samples_leaf=2, max_features=sqrt, max_depth=5, total=   1.4s\n",
      "[CV] n_estimators=700, min_samples_split=10, min_samples_leaf=2, max_features=sqrt, max_depth=5 \n",
      "[CV]  n_estimators=700, min_samples_split=10, min_samples_leaf=2, max_features=sqrt, max_depth=5, total=   1.3s\n",
      "[CV] n_estimators=700, min_samples_split=10, min_samples_leaf=2, max_features=sqrt, max_depth=5 \n",
      "[CV]  n_estimators=700, min_samples_split=10, min_samples_leaf=2, max_features=sqrt, max_depth=5, total=   1.2s\n",
      "[CV] n_estimators=700, min_samples_split=15, min_samples_leaf=1, max_features=auto, max_depth=20 \n",
      "[CV]  n_estimators=700, min_samples_split=15, min_samples_leaf=1, max_features=auto, max_depth=20, total=   1.6s\n",
      "[CV] n_estimators=700, min_samples_split=15, min_samples_leaf=1, max_features=auto, max_depth=20 \n",
      "[CV]  n_estimators=700, min_samples_split=15, min_samples_leaf=1, max_features=auto, max_depth=20, total=   1.7s\n",
      "[CV] n_estimators=700, min_samples_split=15, min_samples_leaf=1, max_features=auto, max_depth=20 \n",
      "[CV]  n_estimators=700, min_samples_split=15, min_samples_leaf=1, max_features=auto, max_depth=20, total=   1.5s\n",
      "[CV] n_estimators=700, min_samples_split=15, min_samples_leaf=1, max_features=auto, max_depth=20 \n",
      "[CV]  n_estimators=700, min_samples_split=15, min_samples_leaf=1, max_features=auto, max_depth=20, total=   1.9s\n",
      "[CV] n_estimators=700, min_samples_split=15, min_samples_leaf=1, max_features=auto, max_depth=20 \n",
      "[CV]  n_estimators=700, min_samples_split=15, min_samples_leaf=1, max_features=auto, max_depth=20, total=   2.2s\n"
     ]
    },
    {
     "name": "stderr",
     "output_type": "stream",
     "text": [
      "[Parallel(n_jobs=1)]: Done  50 out of  50 | elapsed:  1.4min finished\n"
     ]
    },
    {
     "data": {
      "text/plain": [
       "RandomizedSearchCV(cv=5, estimator=RandomForestClassifier(), n_jobs=1,\n",
       "                   param_distributions={'max_depth': [5, 10, 15, 20, 25, 30],\n",
       "                                        'max_features': ['auto', 'sqrt'],\n",
       "                                        'min_samples_leaf': [1, 2, 5, 10],\n",
       "                                        'min_samples_split': [2, 5, 10, 15,\n",
       "                                                              100],\n",
       "                                        'n_estimators': [100, 200, 300, 400,\n",
       "                                                         500, 600, 700, 800,\n",
       "                                                         900, 1000, 1100,\n",
       "                                                         1200]},\n",
       "                   random_state=42, scoring='neg_mean_squared_error',\n",
       "                   verbose=2)"
      ]
     },
     "execution_count": 207,
     "metadata": {},
     "output_type": "execute_result"
    }
   ],
   "source": [
    "rf_random.fit(X_train,y_train)"
   ]
  },
  {
   "cell_type": "code",
   "execution_count": 208,
   "metadata": {},
   "outputs": [
    {
     "data": {
      "text/plain": [
       "{'n_estimators': 1100,\n",
       " 'min_samples_split': 15,\n",
       " 'min_samples_leaf': 10,\n",
       " 'max_features': 'sqrt',\n",
       " 'max_depth': 5}"
      ]
     },
     "execution_count": 208,
     "metadata": {},
     "output_type": "execute_result"
    }
   ],
   "source": [
    "rf_random.best_params_"
   ]
  },
  {
   "cell_type": "markdown",
   "metadata": {},
   "source": [
    "# 15) Perform k-means clustering on dataset and divide it into four clusters "
   ]
  },
  {
   "cell_type": "code",
   "execution_count": 273,
   "metadata": {},
   "outputs": [
    {
     "data": {
      "text/html": [
       "<div>\n",
       "<style scoped>\n",
       "    .dataframe tbody tr th:only-of-type {\n",
       "        vertical-align: middle;\n",
       "    }\n",
       "\n",
       "    .dataframe tbody tr th {\n",
       "        vertical-align: top;\n",
       "    }\n",
       "\n",
       "    .dataframe thead th {\n",
       "        text-align: right;\n",
       "    }\n",
       "</style>\n",
       "<table border=\"1\" class=\"dataframe\">\n",
       "  <thead>\n",
       "    <tr style=\"text-align: right;\">\n",
       "      <th></th>\n",
       "      <th>International_plan</th>\n",
       "      <th>Total_day_minutes</th>\n",
       "      <th>Total_day_charge</th>\n",
       "      <th>Customer_service_calls</th>\n",
       "      <th>Churn</th>\n",
       "    </tr>\n",
       "  </thead>\n",
       "  <tbody>\n",
       "    <tr>\n",
       "      <th>0</th>\n",
       "      <td>0</td>\n",
       "      <td>265.1</td>\n",
       "      <td>45.07</td>\n",
       "      <td>1</td>\n",
       "      <td>-0.412704</td>\n",
       "    </tr>\n",
       "    <tr>\n",
       "      <th>1</th>\n",
       "      <td>0</td>\n",
       "      <td>161.6</td>\n",
       "      <td>27.47</td>\n",
       "      <td>1</td>\n",
       "      <td>-0.412704</td>\n",
       "    </tr>\n",
       "    <tr>\n",
       "      <th>2</th>\n",
       "      <td>0</td>\n",
       "      <td>243.4</td>\n",
       "      <td>41.38</td>\n",
       "      <td>0</td>\n",
       "      <td>-0.412704</td>\n",
       "    </tr>\n",
       "    <tr>\n",
       "      <th>3</th>\n",
       "      <td>1</td>\n",
       "      <td>299.4</td>\n",
       "      <td>50.90</td>\n",
       "      <td>2</td>\n",
       "      <td>-0.412704</td>\n",
       "    </tr>\n",
       "    <tr>\n",
       "      <th>4</th>\n",
       "      <td>1</td>\n",
       "      <td>166.7</td>\n",
       "      <td>28.34</td>\n",
       "      <td>3</td>\n",
       "      <td>-0.412704</td>\n",
       "    </tr>\n",
       "    <tr>\n",
       "      <th>...</th>\n",
       "      <td>...</td>\n",
       "      <td>...</td>\n",
       "      <td>...</td>\n",
       "      <td>...</td>\n",
       "      <td>...</td>\n",
       "    </tr>\n",
       "    <tr>\n",
       "      <th>2661</th>\n",
       "      <td>0</td>\n",
       "      <td>134.7</td>\n",
       "      <td>22.90</td>\n",
       "      <td>2</td>\n",
       "      <td>-0.412704</td>\n",
       "    </tr>\n",
       "    <tr>\n",
       "      <th>2662</th>\n",
       "      <td>0</td>\n",
       "      <td>156.2</td>\n",
       "      <td>26.55</td>\n",
       "      <td>2</td>\n",
       "      <td>-0.412704</td>\n",
       "    </tr>\n",
       "    <tr>\n",
       "      <th>2663</th>\n",
       "      <td>0</td>\n",
       "      <td>231.1</td>\n",
       "      <td>39.29</td>\n",
       "      <td>3</td>\n",
       "      <td>-0.412704</td>\n",
       "    </tr>\n",
       "    <tr>\n",
       "      <th>2664</th>\n",
       "      <td>0</td>\n",
       "      <td>180.8</td>\n",
       "      <td>30.74</td>\n",
       "      <td>2</td>\n",
       "      <td>-0.412704</td>\n",
       "    </tr>\n",
       "    <tr>\n",
       "      <th>2665</th>\n",
       "      <td>0</td>\n",
       "      <td>234.4</td>\n",
       "      <td>39.85</td>\n",
       "      <td>0</td>\n",
       "      <td>-0.412704</td>\n",
       "    </tr>\n",
       "  </tbody>\n",
       "</table>\n",
       "<p>2666 rows × 5 columns</p>\n",
       "</div>"
      ],
      "text/plain": [
       "      International_plan  Total_day_minutes  Total_day_charge  \\\n",
       "0                      0              265.1             45.07   \n",
       "1                      0              161.6             27.47   \n",
       "2                      0              243.4             41.38   \n",
       "3                      1              299.4             50.90   \n",
       "4                      1              166.7             28.34   \n",
       "...                  ...                ...               ...   \n",
       "2661                   0              134.7             22.90   \n",
       "2662                   0              156.2             26.55   \n",
       "2663                   0              231.1             39.29   \n",
       "2664                   0              180.8             30.74   \n",
       "2665                   0              234.4             39.85   \n",
       "\n",
       "      Customer_service_calls     Churn  \n",
       "0                          1 -0.412704  \n",
       "1                          1 -0.412704  \n",
       "2                          0 -0.412704  \n",
       "3                          2 -0.412704  \n",
       "4                          3 -0.412704  \n",
       "...                      ...       ...  \n",
       "2661                       2 -0.412704  \n",
       "2662                       2 -0.412704  \n",
       "2663                       3 -0.412704  \n",
       "2664                       2 -0.412704  \n",
       "2665                       0 -0.412704  \n",
       "\n",
       "[2666 rows x 5 columns]"
      ]
     },
     "execution_count": 273,
     "metadata": {},
     "output_type": "execute_result"
    }
   ],
   "source": [
    "dff"
   ]
  },
  {
   "cell_type": "code",
   "execution_count": 291,
   "metadata": {},
   "outputs": [
    {
     "data": {
      "text/html": [
       "<div>\n",
       "<style scoped>\n",
       "    .dataframe tbody tr th:only-of-type {\n",
       "        vertical-align: middle;\n",
       "    }\n",
       "\n",
       "    .dataframe tbody tr th {\n",
       "        vertical-align: top;\n",
       "    }\n",
       "\n",
       "    .dataframe thead th {\n",
       "        text-align: right;\n",
       "    }\n",
       "</style>\n",
       "<table border=\"1\" class=\"dataframe\">\n",
       "  <thead>\n",
       "    <tr style=\"text-align: right;\">\n",
       "      <th></th>\n",
       "      <th>Total_day_minutes</th>\n",
       "      <th>Total_day_charge</th>\n",
       "    </tr>\n",
       "  </thead>\n",
       "  <tbody>\n",
       "    <tr>\n",
       "      <th>0</th>\n",
       "      <td>265.1</td>\n",
       "      <td>45.07</td>\n",
       "    </tr>\n",
       "    <tr>\n",
       "      <th>1</th>\n",
       "      <td>161.6</td>\n",
       "      <td>27.47</td>\n",
       "    </tr>\n",
       "    <tr>\n",
       "      <th>2</th>\n",
       "      <td>243.4</td>\n",
       "      <td>41.38</td>\n",
       "    </tr>\n",
       "    <tr>\n",
       "      <th>3</th>\n",
       "      <td>299.4</td>\n",
       "      <td>50.90</td>\n",
       "    </tr>\n",
       "    <tr>\n",
       "      <th>4</th>\n",
       "      <td>166.7</td>\n",
       "      <td>28.34</td>\n",
       "    </tr>\n",
       "  </tbody>\n",
       "</table>\n",
       "</div>"
      ],
      "text/plain": [
       "   Total_day_minutes  Total_day_charge\n",
       "0              265.1             45.07\n",
       "1              161.6             27.47\n",
       "2              243.4             41.38\n",
       "3              299.4             50.90\n",
       "4              166.7             28.34"
      ]
     },
     "execution_count": 291,
     "metadata": {},
     "output_type": "execute_result"
    }
   ],
   "source": [
    "new_data_k = df.loc[:,['Total_day_minutes','Total_day_charge']]\n",
    "new_data_k.head()"
   ]
  },
  {
   "cell_type": "code",
   "execution_count": 292,
   "metadata": {},
   "outputs": [],
   "source": [
    "from sklearn.cluster import KMeans\n"
   ]
  },
  {
   "cell_type": "code",
   "execution_count": 293,
   "metadata": {},
   "outputs": [
    {
     "data": {
      "text/plain": [
       "KMeans(n_clusters=4)"
      ]
     },
     "execution_count": 293,
     "metadata": {},
     "output_type": "execute_result"
    }
   ],
   "source": [
    "cls = KMeans(n_clusters = 4, )\n",
    "cls.fit(new_data_k)"
   ]
  },
  {
   "cell_type": "markdown",
   "metadata": {},
   "source": [
    "#  Apply kmeans again with different no. of cluster according to  best wcss score "
   ]
  },
  {
   "cell_type": "code",
   "execution_count": 294,
   "metadata": {},
   "outputs": [],
   "source": [
    "# Fitting K-Means to the dataset\n",
    "kmeans = KMeans(n_clusters = 4, init = 'k-means++', random_state = 42)\n",
    "y_kmeans = kmeans.fit_predict(new_data_k)\n"
   ]
  },
  {
   "cell_type": "code",
   "execution_count": 295,
   "metadata": {},
   "outputs": [],
   "source": [
    "new_data_k[\"label\"] = y_kmeans"
   ]
  },
  {
   "cell_type": "code",
   "execution_count": 296,
   "metadata": {},
   "outputs": [
    {
     "data": {
      "text/html": [
       "<div>\n",
       "<style scoped>\n",
       "    .dataframe tbody tr th:only-of-type {\n",
       "        vertical-align: middle;\n",
       "    }\n",
       "\n",
       "    .dataframe tbody tr th {\n",
       "        vertical-align: top;\n",
       "    }\n",
       "\n",
       "    .dataframe thead th {\n",
       "        text-align: right;\n",
       "    }\n",
       "</style>\n",
       "<table border=\"1\" class=\"dataframe\">\n",
       "  <thead>\n",
       "    <tr style=\"text-align: right;\">\n",
       "      <th></th>\n",
       "      <th>Total_day_minutes</th>\n",
       "      <th>Total_day_charge</th>\n",
       "      <th>label</th>\n",
       "    </tr>\n",
       "  </thead>\n",
       "  <tbody>\n",
       "    <tr>\n",
       "      <th>0</th>\n",
       "      <td>265.1</td>\n",
       "      <td>45.07</td>\n",
       "      <td>1</td>\n",
       "    </tr>\n",
       "    <tr>\n",
       "      <th>1</th>\n",
       "      <td>161.6</td>\n",
       "      <td>27.47</td>\n",
       "      <td>0</td>\n",
       "    </tr>\n",
       "    <tr>\n",
       "      <th>2</th>\n",
       "      <td>243.4</td>\n",
       "      <td>41.38</td>\n",
       "      <td>1</td>\n",
       "    </tr>\n",
       "    <tr>\n",
       "      <th>3</th>\n",
       "      <td>299.4</td>\n",
       "      <td>50.90</td>\n",
       "      <td>1</td>\n",
       "    </tr>\n",
       "    <tr>\n",
       "      <th>4</th>\n",
       "      <td>166.7</td>\n",
       "      <td>28.34</td>\n",
       "      <td>0</td>\n",
       "    </tr>\n",
       "  </tbody>\n",
       "</table>\n",
       "</div>"
      ],
      "text/plain": [
       "   Total_day_minutes  Total_day_charge  label\n",
       "0              265.1             45.07      1\n",
       "1              161.6             27.47      0\n",
       "2              243.4             41.38      1\n",
       "3              299.4             50.90      1\n",
       "4              166.7             28.34      0"
      ]
     },
     "execution_count": 296,
     "metadata": {},
     "output_type": "execute_result"
    }
   ],
   "source": [
    "new_data_k.head()"
   ]
  },
  {
   "cell_type": "code",
   "execution_count": null,
   "metadata": {},
   "outputs": [],
   "source": []
  }
 ],
 "metadata": {
  "kernelspec": {
   "display_name": "Python 3",
   "language": "python",
   "name": "python3"
  },
  "language_info": {
   "codemirror_mode": {
    "name": "ipython",
    "version": 3
   },
   "file_extension": ".py",
   "mimetype": "text/x-python",
   "name": "python",
   "nbconvert_exporter": "python",
   "pygments_lexer": "ipython3",
   "version": "3.8.5"
  }
 },
 "nbformat": 4,
 "nbformat_minor": 4
}
